{
 "cells": [
  {
   "cell_type": "markdown",
   "metadata": {},
   "source": [
    "# Coursework 2: k-means clustering\n",
    "In this coursework, you will implement and test an unsupervised machine learning algorithm: _k-means clustering_. Once you have completed your work, you will need to submit the results on QM+. To submit your work, first download/export your Jupyter notebook as PDF. Then upload the PDF file in the submission area on QM+."
   ]
  },
  {
   "cell_type": "markdown",
   "metadata": {},
   "source": [
    "## Task 1: Prepare two test datasets\n",
    "Pick a small set of values that enable you to apply clustering using pen&paper. Next create a fresh, or find an existing, large dataset. You may choose to use the Iris dataset, which is included in scikit-learn (and also available as a CSV file on QM+, generated using the below code snippet).\n",
    "> Marking information: Up to 10 points: clarify why you believe your small dataset to be suitable for k-means clustering. Also make sure you report the source of your large dataset. "
   ]
  },
  {
   "cell_type": "markdown",
   "metadata": {},
   "source": [
    "### Task 1.1: the small dataset\n",
    "\n",
    "The small test dataset will consist of 11 data points (observations) and 2 features `a` and `b`:\n",
    "\n",
    "| Index | a | b |\n",
    "| --- | --- | --- |\n",
    "| 0 | 1 | 2 |\n",
    "| 1 | 2 | 1 |\n",
    "| 2 | 7 | 7 |\n",
    "| 3 | 2 | 3 |\n",
    "| 4 | 3 | 2 |\n",
    "| 5 | 10 | 4 |\n",
    "| 6 | 3 | 3 |\n",
    "| 7 | 4 | 3 |\n",
    "| 8 | 4 | 8 |\n",
    "| 9 | 8 | 4 |\n",
    "| 10 | 6 | 5 |\n",
    "\n",
    "This data set naturally splits into 2 cluster (as demonstrated in the scatter plot below), however data points are spread out enough to require interations in order to reach the final result."
   ]
  },
  {
   "cell_type": "code",
   "execution_count": 202,
   "metadata": {
    "ExecuteTime": {
     "end_time": "2021-12-02T12:52:39.297426Z",
     "start_time": "2021-12-02T12:52:39.180356Z"
    },
    "scrolled": true
   },
   "outputs": [
    {
     "data": {
      "text/plain": [
       "<function matplotlib.pyplot.show(close=None, block=None)>"
      ]
     },
     "execution_count": 202,
     "metadata": {},
     "output_type": "execute_result"
    },
    {
     "data": {
      "image/png": "[encoded data removed]",
      "text/plain": [
       "<Figure size 432x288 with 1 Axes>"
      ]
     },
     "metadata": {
      "needs_background": "light"
     },
     "output_type": "display_data"
    }
   ],
   "source": [
    "small_dataset = [[1,2], [2,1], [7,7], [2,3], [3,2], [10,4], [3,3], [4,3], [4,8], [8,4], [6,5]]\n",
    "\n",
    "import numpy as np\n",
    "\n",
    "array = np.array(small_dataset)\n",
    "x = array[:,0]\n",
    "y = array[:,1]\n",
    "\n",
    "plt.scatter(x, y)\n",
    "plt.show"
   ]
  },
  {
   "cell_type": "markdown",
   "metadata": {},
   "source": [
    "### Task 1.2: The large dataset\n",
    "\n",
    "The Iris dataset will be utilised as the large dataset."
   ]
  },
  {
   "cell_type": "code",
   "execution_count": 50,
   "metadata": {
    "ExecuteTime": {
     "end_time": "2021-12-01T21:15:10.820670Z",
     "start_time": "2021-12-01T21:15:10.799685Z"
    }
   },
   "outputs": [
    {
     "data": {
      "text/plain": [
       "[[5.1, 3.5, 1.4, 0.2],\n",
       " [4.9, 3.0, 1.4, 0.2],\n",
       " [4.7, 3.2, 1.3, 0.2],\n",
       " [4.6, 3.1, 1.5, 0.2],\n",
       " [5.0, 3.6, 1.4, 0.2],\n",
       " [5.4, 3.9, 1.7, 0.4],\n",
       " [4.6, 3.4, 1.4, 0.3],\n",
       " [5.0, 3.4, 1.5, 0.2],\n",
       " [4.4, 2.9, 1.4, 0.2],\n",
       " [4.9, 3.1, 1.5, 0.1],\n",
       " [5.4, 3.7, 1.5, 0.2],\n",
       " [4.8, 3.4, 1.6, 0.2],\n",
       " [4.8, 3.0, 1.4, 0.1],\n",
       " [4.3, 3.0, 1.1, 0.1],\n",
       " [5.8, 4.0, 1.2, 0.2],\n",
       " [5.7, 4.4, 1.5, 0.4],\n",
       " [5.4, 3.9, 1.3, 0.4],\n",
       " [5.1, 3.5, 1.4, 0.3],\n",
       " [5.7, 3.8, 1.7, 0.3],\n",
       " [5.1, 3.8, 1.5, 0.3],\n",
       " [5.4, 3.4, 1.7, 0.2],\n",
       " [5.1, 3.7, 1.5, 0.4],\n",
       " [4.6, 3.6, 1.0, 0.2],\n",
       " [5.1, 3.3, 1.7, 0.5],\n",
       " [4.8, 3.4, 1.9, 0.2],\n",
       " [5.0, 3.0, 1.6, 0.2],\n",
       " [5.0, 3.4, 1.6, 0.4],\n",
       " [5.2, 3.5, 1.5, 0.2],\n",
       " [5.2, 3.4, 1.4, 0.2],\n",
       " [4.7, 3.2, 1.6, 0.2],\n",
       " [4.8, 3.1, 1.6, 0.2],\n",
       " [5.4, 3.4, 1.5, 0.4],\n",
       " [5.2, 4.1, 1.5, 0.1],\n",
       " [5.5, 4.2, 1.4, 0.2],\n",
       " [4.9, 3.1, 1.5, 0.2],\n",
       " [5.0, 3.2, 1.2, 0.2],\n",
       " [5.5, 3.5, 1.3, 0.2],\n",
       " [4.9, 3.6, 1.4, 0.1],\n",
       " [4.4, 3.0, 1.3, 0.2],\n",
       " [5.1, 3.4, 1.5, 0.2],\n",
       " [5.0, 3.5, 1.3, 0.3],\n",
       " [4.5, 2.3, 1.3, 0.3],\n",
       " [4.4, 3.2, 1.3, 0.2],\n",
       " [5.0, 3.5, 1.6, 0.6],\n",
       " [5.1, 3.8, 1.9, 0.4],\n",
       " [4.8, 3.0, 1.4, 0.3],\n",
       " [5.1, 3.8, 1.6, 0.2],\n",
       " [4.6, 3.2, 1.4, 0.2],\n",
       " [5.3, 3.7, 1.5, 0.2],\n",
       " [5.0, 3.3, 1.4, 0.2],\n",
       " [7.0, 3.2, 4.7, 1.4],\n",
       " [6.4, 3.2, 4.5, 1.5],\n",
       " [6.9, 3.1, 4.9, 1.5],\n",
       " [5.5, 2.3, 4.0, 1.3],\n",
       " [6.5, 2.8, 4.6, 1.5],\n",
       " [5.7, 2.8, 4.5, 1.3],\n",
       " [6.3, 3.3, 4.7, 1.6],\n",
       " [4.9, 2.4, 3.3, 1.0],\n",
       " [6.6, 2.9, 4.6, 1.3],\n",
       " [5.2, 2.7, 3.9, 1.4],\n",
       " [5.0, 2.0, 3.5, 1.0],\n",
       " [5.9, 3.0, 4.2, 1.5],\n",
       " [6.0, 2.2, 4.0, 1.0],\n",
       " [6.1, 2.9, 4.7, 1.4],\n",
       " [5.6, 2.9, 3.6, 1.3],\n",
       " [6.7, 3.1, 4.4, 1.4],\n",
       " [5.6, 3.0, 4.5, 1.5],\n",
       " [5.8, 2.7, 4.1, 1.0],\n",
       " [6.2, 2.2, 4.5, 1.5],\n",
       " [5.6, 2.5, 3.9, 1.1],\n",
       " [5.9, 3.2, 4.8, 1.8],\n",
       " [6.1, 2.8, 4.0, 1.3],\n",
       " [6.3, 2.5, 4.9, 1.5],\n",
       " [6.1, 2.8, 4.7, 1.2],\n",
       " [6.4, 2.9, 4.3, 1.3],\n",
       " [6.6, 3.0, 4.4, 1.4],\n",
       " [6.8, 2.8, 4.8, 1.4],\n",
       " [6.7, 3.0, 5.0, 1.7],\n",
       " [6.0, 2.9, 4.5, 1.5],\n",
       " [5.7, 2.6, 3.5, 1.0],\n",
       " [5.5, 2.4, 3.8, 1.1],\n",
       " [5.5, 2.4, 3.7, 1.0],\n",
       " [5.8, 2.7, 3.9, 1.2],\n",
       " [6.0, 2.7, 5.1, 1.6],\n",
       " [5.4, 3.0, 4.5, 1.5],\n",
       " [6.0, 3.4, 4.5, 1.6],\n",
       " [6.7, 3.1, 4.7, 1.5],\n",
       " [6.3, 2.3, 4.4, 1.3],\n",
       " [5.6, 3.0, 4.1, 1.3],\n",
       " [5.5, 2.5, 4.0, 1.3],\n",
       " [5.5, 2.6, 4.4, 1.2],\n",
       " [6.1, 3.0, 4.6, 1.4],\n",
       " [5.8, 2.6, 4.0, 1.2],\n",
       " [5.0, 2.3, 3.3, 1.0],\n",
       " [5.6, 2.7, 4.2, 1.3],\n",
       " [5.7, 3.0, 4.2, 1.2],\n",
       " [5.7, 2.9, 4.2, 1.3],\n",
       " [6.2, 2.9, 4.3, 1.3],\n",
       " [5.1, 2.5, 3.0, 1.1],\n",
       " [5.7, 2.8, 4.1, 1.3],\n",
       " [6.3, 3.3, 6.0, 2.5],\n",
       " [5.8, 2.7, 5.1, 1.9],\n",
       " [7.1, 3.0, 5.9, 2.1],\n",
       " [6.3, 2.9, 5.6, 1.8],\n",
       " [6.5, 3.0, 5.8, 2.2],\n",
       " [7.6, 3.0, 6.6, 2.1],\n",
       " [4.9, 2.5, 4.5, 1.7],\n",
       " [7.3, 2.9, 6.3, 1.8],\n",
       " [6.7, 2.5, 5.8, 1.8],\n",
       " [7.2, 3.6, 6.1, 2.5],\n",
       " [6.5, 3.2, 5.1, 2.0],\n",
       " [6.4, 2.7, 5.3, 1.9],\n",
       " [6.8, 3.0, 5.5, 2.1],\n",
       " [5.7, 2.5, 5.0, 2.0],\n",
       " [5.8, 2.8, 5.1, 2.4],\n",
       " [6.4, 3.2, 5.3, 2.3],\n",
       " [6.5, 3.0, 5.5, 1.8],\n",
       " [7.7, 3.8, 6.7, 2.2],\n",
       " [7.7, 2.6, 6.9, 2.3],\n",
       " [6.0, 2.2, 5.0, 1.5],\n",
       " [6.9, 3.2, 5.7, 2.3],\n",
       " [5.6, 2.8, 4.9, 2.0],\n",
       " [7.7, 2.8, 6.7, 2.0],\n",
       " [6.3, 2.7, 4.9, 1.8],\n",
       " [6.7, 3.3, 5.7, 2.1],\n",
       " [7.2, 3.2, 6.0, 1.8],\n",
       " [6.2, 2.8, 4.8, 1.8],\n",
       " [6.1, 3.0, 4.9, 1.8],\n",
       " [6.4, 2.8, 5.6, 2.1],\n",
       " [7.2, 3.0, 5.8, 1.6],\n",
       " [7.4, 2.8, 6.1, 1.9],\n",
       " [7.9, 3.8, 6.4, 2.0],\n",
       " [6.4, 2.8, 5.6, 2.2],\n",
       " [6.3, 2.8, 5.1, 1.5],\n",
       " [6.1, 2.6, 5.6, 1.4],\n",
       " [7.7, 3.0, 6.1, 2.3],\n",
       " [6.3, 3.4, 5.6, 2.4],\n",
       " [6.4, 3.1, 5.5, 1.8],\n",
       " [6.0, 3.0, 4.8, 1.8],\n",
       " [6.9, 3.1, 5.4, 2.1],\n",
       " [6.7, 3.1, 5.6, 2.4],\n",
       " [6.9, 3.1, 5.1, 2.3],\n",
       " [5.8, 2.7, 5.1, 1.9],\n",
       " [6.8, 3.2, 5.9, 2.3],\n",
       " [6.7, 3.3, 5.7, 2.5],\n",
       " [6.7, 3.0, 5.2, 2.3],\n",
       " [6.3, 2.5, 5.0, 1.9],\n",
       " [6.5, 3.0, 5.2, 2.0],\n",
       " [6.2, 3.4, 5.4, 2.3],\n",
       " [5.9, 3.0, 5.1, 1.8]]"
      ]
     },
     "execution_count": 50,
     "metadata": {},
     "output_type": "execute_result"
    }
   ],
   "source": [
    "#large data set - Iris data set\n",
    "from sklearn.datasets import load_iris\n",
    "iris = load_iris()\n",
    "\n",
    "iris_dataset = iris.data.tolist()\n",
    "iris_dataset"
   ]
  },
  {
   "cell_type": "markdown",
   "metadata": {},
   "source": [
    "## Task 2: Apply k-means clustering on paper\n",
    "Work through your small dataset from Task 1 to ensure you have known-good results.\n",
    "> Marking information: Up to 20 points: include information on how you sanity-checked your results as the number of iterations may considerably affect the precision of your final values."
   ]
  },
  {
   "cell_type": "markdown",
   "metadata": {},
   "source": [
    "\n",
    "### Task 2.1: Break down of K-means clustering and the detailed algorithm in English\n",
    "\n",
    "K-means clustering is a machine learning method that partitions `n observations` into `k clusters` so that each observation belongs to the cluster whose mean (centroid) is closest in distance.\n",
    "\n",
    "LLoyd's algorithm (naive K-means) will be used for this clustering for the small data set as well as the code implementation. This algorithm breaks into 4 steps (essentially 3 actions as step 4 only repeats previous steps):\n",
    "\n",
    "1. **Initialization step**: Choosing at random `k` number of independent *data points* from the data set (`k` corresponds to the *desired number of clusters*) as initial *centroids*.\n",
    "\n",
    "2. **Assignment step**: \n",
    "    1. Assign each and every *observation* to the *cluster* with the nearest mean to that *observation* (the distance is measured using squared Euclidean distance, which is the sum of squared difference of all features. Essentially, for each observation $i$, we calculate $$ Min (\\sum_{p=1}^{t} (i_{x_p} - m_{x_p}^j)^2 )\\forall j, 1\t\\leq j\t\\leq k $$, with $x_p$ representing all features used for clustering, $m^j$ being the *centroids* specified in step 1. \n",
    "    1. Then we assign the *observation* to whichever *cluster* whose *centroid* corresponds to the *minimum distance calculated* (if there are multiple *clusters* with the same distance between its *centroid* and the *observation*, then the *observation* will be assigned to whichever *cluster* considered first.\n",
    "    \n",
    "3. **Update step**: The *cluster's centroid* will be re-calculated as the mean value of the *observations* in the *cluster*.\n",
    "\n",
    "4. **Break step**: Evaluate whether there has been changes in *cluster assignment* and/or *centroid movement*. (For convenience of operation, these movements from here on will be quantified as having the squared Euclidean distance between the previous centroid and the newly obtained centroid as 0, meaning the clustering wil be completed when the sum of Euclidean distances between previous centroids and their corresponding new values is 0). Repeat steps 2 and 3 if yes. \n",
    "\n",
    "Thus, the flow chart for the programme that perform k-means clustering is as follows:"
   ]
  },
  {
   "cell_type": "code",
   "execution_count": 217,
   "metadata": {
    "ExecuteTime": {
     "end_time": "2021-12-02T13:27:22.922517Z",
     "start_time": "2021-12-02T13:27:22.902513Z"
    }
   },
   "outputs": [
    {
     "data": {
      "image/png": "[encoded data removed]",
      "text/plain": [
       "<IPython.core.display.Image object>"
      ]
     },
     "execution_count": 217,
     "metadata": {},
     "output_type": "execute_result"
    }
   ],
   "source": [
    "from IPython import display\n",
    "display.Image(\"C:/Users/Huy's/OneDrive/qmul_2021-22/programming_foundation/\"\n",
    "              \"coursework/flow_chart.png\")"
   ]
  },
  {
   "cell_type": "markdown",
   "metadata": {},
   "source": [
    "\n",
    "### Task 2.2: Calculations for the small dataset\n",
    "\n",
    "For the small dataset example, all observations will be partitioned into 2 clusters. The steps detailed above will be followed:\n",
    "\n",
    "1. Iteration 0 - Step 1 - **Initialization**: Observations 2 (7, 7) and 5 (10, 4) will be used as initial centroids, centroid 0 and centroid 1 respectively. \n",
    "\n",
    "2. Iteration 0 - Step 2 - **Assignment**: The squared Euclidean distance between each observation and these 2 centroids are the squared difference between the observation's `a` feature and each centroid's, plus the squared difference between the observation's `a` feature and each centroid's. This is calculated in the table below:\n",
    "\n",
    "| Index | a | b | a_dist_cen_0 | b_dist_cen_0 | a_dist_cen_1 | b_dist_cen_1 | \n",
    "| --- | --- | --- | --- | --- | --- | --- | \n",
    "| 0 |\t1 |\t2 |\t(1-7)^2=36 |\t(2-7)^2=25 |\t(1-10)^2=81\t|\t(2-4)^2=4 |\n",
    "| 1 |\t2 |\t1 |\t(2-7)^2=25 |\t(1-7)^2=36 |\t(2-10)^2=64\t|\t(1-4)^2=9 |\n",
    "| 2 |\t7 |\t7 |\t(7-7)^2=0 |\t(7-7)^2=0 |\t(7-10)^2=9\t|\t(7-4)^2=9 |\n",
    "| 3 |\t2 |\t3 |\t(2-7)^2=25 |\t(3-7)^2=16 |\t(2-10)^2=64\t|\t(3-4)^2=1 |\n",
    "| 4 |\t3 |\t2 |\t(3-7)^2=16 |\t(2-7)^2=25 |\t(3-10)^2=49\t|\t(2-4)^2=4 |\n",
    "| 5 |\t10 |\t4 |\t(10-7)^2=9 |\t(4-7)^2=9 |\t(10-10)^2=0\t|\t(4-4)^2=0 |\n",
    "| 6 |\t3 |\t3 |\t(3-7)^2=16 |\t(3-7)^2=16 |\t(3-10)^2=49\t|\t(3-4)^2=1 |\n",
    "| 7 |\t4 |\t3 |\t(4-7)^2=9 |\t(3-7)^2=16 |\t(4-10)^2=36\t|\t(3-4)^2=1 |\n",
    "| 8 |\t4 |\t8 |\t(4-7)^2=9 |\t(8-7)^2=1 |\t(4-10)^2=36\t|\t(8-4)^2=6 |\n",
    "| 9 |\t8 |\t4 |\t(8-7)^2=1 |\t(4-7)^2=9 |\t(8-10)^2=4\t|\t(4-4)^2=0 |\n",
    "| 10 |\t6 |\t5 |\t(6-7)^2=1 |\t(5-7)^2=4 |\t(6-10)^2=16\t|\t(5-4)^2=1 |\n",
    "\n",
    "This yields the distances to each centroid and thus the cluster for each as:\n",
    "\n",
    "| Index | a | b | dist_cen_0 | dist_cen_1 | cluster_index\n",
    "| --- | --- | --- | --- | --- | --- |\n",
    "|0\t|1\t|2\t|61\t|85\t|0|\n",
    "|1\t|2\t|1\t|61\t|73\t|0|\n",
    "|2\t|7\t|7\t|0\t|18\t|0|\n",
    "|3\t|2\t|3\t|41\t|65\t|0|\n",
    "|4\t|3\t|2\t|41\t|53\t|0|\n",
    "|5\t|10\t|4\t|18\t|0\t|1|\n",
    "|6\t|3\t|3\t|32\t|50\t|0|\n",
    "|7\t|4\t|3\t|25\t|37\t|0|\n",
    "|8\t|4\t|8\t|10\t|52\t|0|\n",
    "|9\t|8\t|4\t|10\t|4\t|1|\n",
    "|10\t|6\t|5\t|5\t|17\t|0|\n",
    "\n",
    "3. Iteration 0 - Step 3 - **Update**: The centroid of each cluster is re-calculated as the mean of the observations in the cluster, specifically (rounded to 2 decimal places):\n",
    "\n",
    "| Cluster | a | b | \n",
    "| --- | --- | --- | \n",
    "| 0 | 3.56 | 3.78  |\n",
    "| 1 | 9 | 4 |\n",
    "\n",
    "4. Iteration 0 - Step 4 - **Break**: There has been movement in clusters' centroids, as centroid 0 moved from (7,7) to (3.56, 3.78), and centroid 0 moved from (10,4) to (9,4). This means we have not obtained the optimum clustering. \n",
    "\n",
    "Therefore, we proceed to iteration 1:\n",
    "\n",
    "5. Iteration 1 - Step 2: Following the same calculations, the distances and corresponding cluster for each observation given the new centroids are as follows:\n",
    "\n",
    "| Index | a | b | dist_cen_0 | dist_cen_1 | cluster_index\n",
    "| --- | --- | --- | --- | --- | --- |\n",
    "|0\t|1\t|2\t|9.69\t|68.00\t|0|\n",
    "|1\t|2\t|1\t|10.14\t|58.00\t|0|\n",
    "|2\t|7\t|7\t|22.25\t|13.00\t|1|\n",
    "|3\t|2\t|3\t|3.02\t|50.00\t|0|\n",
    "|4\t|3\t|2\t|3.47\t|40.00\t|0|\n",
    "|5\t|10\t|4\t|41.58\t|1.00\t|1|\n",
    "|6\t|3\t|3\t|0.91\t|37.00\t|0|\n",
    "|7\t|4\t|3\t|0.80\t|26.00\t|0|\n",
    "|8\t|4\t|8\t|18.02\t|41.00\t|0|\n",
    "|9\t|8\t|4\t|19.80\t|1.00\t|1|\n",
    "|10\t|6\t|5\t|7.47\t|10.00\t|0|\n",
    "\n",
    "6. Iteration 1 - Step 3: The centroid of each cluster is re-calculated as the mean of the observations in the cluster, specifically (rounded to 2 decimal places):\n",
    "\n",
    "| Cluster | a | b | \n",
    "| --- | --- | --- | \n",
    "| 0 | 3.13 | 3.38  |\n",
    "| 1 | 8.33 | 5 |\n",
    "\n",
    "7. Iteration 1 - Step 4: There has been movement in clusters' centroids, as centroid 0 moved from (3.56, 3.78) to (3.13, 3.38), and centroid 0 moved from (9,4) to (8.33,5). This means we have not obtained the optimum clustering. \n",
    "\n",
    "Therefore, we proceed to iteration 2:\n",
    "\n",
    "8. Iteration 2 - Step 2: Following the same calculations, the distances and corresponding cluster for each observation given the new centroids are as follows:\n",
    "\n",
    "| Index | a | b | dist_cen_0 | dist_cen_1 | cluster_index |\n",
    "| --- | --- | --- | --- | --- | --- |\n",
    "|0\t|\t1\t|\t2\t|\t6.41\t|\t62.78\t|\t0\t|\n",
    "|1\t|\t2\t|\t1\t|\t6.91\t|\t56.11\t|\t0\t|\n",
    "|2\t|\t7\t|\t7\t|\t28.16\t|\t5.78\t|\t1\t|\n",
    "|3\t|\t2\t|\t3\t|\t1.41\t|\t44.11\t|\t0\t|\n",
    "|4\t|\t3\t|\t2\t|\t1.91\t|\t37.44\t|\t0\t|\n",
    "|5\t|\t10\t|\t4\t|\t47.66\t|\t3.78\t|\t1\t|\n",
    "|6\t|\t3\t|\t3\t|\t0.16\t|\t32.44\t|\t0\t|\n",
    "|7\t|\t4\t|\t3\t|\t0.91\t|\t22.78\t|\t0\t|\n",
    "|8\t|\t4\t|\t8\t|\t22.16\t|\t27.78\t|\t0\t|\n",
    "|9\t|\t8\t|\t4\t|\t24.16\t|\t1.11\t|\t1\t|\n",
    "|10\t|\t6\t|\t5\t|\t10.91\t|\t5.44\t|\t1\t|\n",
    "\n",
    "\n",
    "9. Iteration 2 - Step 3: The centroid of each cluster is re-calculated as the mean of the observations in the cluster, specifically (rounded to 2 decimal places):\n",
    "\n",
    "| Cluster | a | b | \n",
    "| --- | --- | --- | \n",
    "|0\t|\t2.71\t|\t3.14\t|\n",
    "|1\t|\t7.75\t|\t5.00\t|\n",
    "\n",
    "10. Iteration 2 - Step 4: There has been movement in clusters' centroids, as centroid 0 moved from (3.13, 3.38) to (2.71, 3.14), and centroid 0 moved from (8.33,5) to (7.75,5). This means we have not obtained the optimum clustering. \n",
    "\n",
    "Therefore, we proceed to iteration 3:\n",
    "\n",
    "11. Iteration 3 - Step 2: Following the same calculations, the distances and corresponding cluster for each observation given the new centroids are as follows:\n",
    "\n",
    "| Index | a | b | dist_cen_0 | dist_cen_1 | cluster_index\n",
    "| --- | --- | --- | --- | --- | --- |\n",
    "|\t0\t|\t1\t|\t2\t|\t2.36\t|\t48.96\t|\t0\t|\n",
    "|\t1\t|\t2\t|\t1\t|\t2.03\t|\t46.16\t|\t0\t|\n",
    "|\t2\t|\t7\t|\t7\t|\t42.03\t|\t1.96\t|\t1\t|\n",
    "|\t3\t|\t2\t|\t3\t|\t0.69\t|\t31.76\t|\t0\t|\n",
    "|\t4\t|\t3\t|\t2\t|\t0.36\t|\t28.96\t|\t0\t|\n",
    "|\t5\t|\t10\t|\t4\t|\t59.03\t|\t11.56\t|\t1\t|\n",
    "|\t6\t|\t3\t|\t3\t|\t0.69\t|\t22.76\t|\t0\t|\n",
    "|\t7\t|\t4\t|\t3\t|\t2.69\t|\t15.76\t|\t0\t|\n",
    "|\t8\t|\t4\t|\t8\t|\t34.36\t|\t14.76\t|\t1\t|\n",
    "|\t9\t|\t8\t|\t4\t|\t33.03\t|\t3.56\t|\t1\t|\n",
    "|\t10\t|\t6\t|\t5\t|\t19.36\t|\t1.36\t|\t1\t|\n",
    "\n",
    "12. Iteration 3 - Step 3: The centroid of each cluster is re-calculated as the mean of the observations in the cluster, specifically (rounded to 2 decimal places):\n",
    "\n",
    "| Cluster | a | b | \n",
    "| --- | --- | --- | \n",
    "|0\t|\t 2.50 \t|\t 2.33 \t|\n",
    "|1\t|\t 7.00 \t|\t 5.60 \t|\n",
    "\n",
    "\n",
    "13. Iteration 3 - Step 4: There has been movement in clusters' centroids, as centroid 0 moved from (2.71, 3.14) to (2.5, 2.33), and centroid 0 moved from (7.75,5) to (7,5.6). This means we have not obtained the optimum clustering. \n",
    "\n",
    "Therefore, we proceed to iteration 4:\n",
    "\n",
    "14. Iteration 4 - Step 2: Following the same calculations, the distances and corresponding cluster for each observation given the new centroids are as follows:\n",
    "\n",
    "| Index | a | b | dist_cen_0 | dist_cen_1 | cluster_index\n",
    "| --- | --- | --- | --- | --- | --- |\n",
    "|0\t|\t1\t|\t2\t|\t6.41\t|\t62.78\t|\t0\t|\n",
    "|1\t|\t2\t|\t1\t|\t6.91\t|\t56.11\t|\t0\t|\n",
    "|2\t|\t7\t|\t7\t|\t28.16\t|\t5.78\t|\t1\t|\n",
    "|3\t|\t2\t|\t3\t|\t1.41\t|\t44.11\t|\t0\t|\n",
    "|4\t|\t3\t|\t2\t|\t1.91\t|\t37.44\t|\t0\t|\n",
    "|5\t|\t10\t|\t4\t|\t47.66\t|\t3.78\t|\t1\t|\n",
    "|6\t|\t3\t|\t3\t|\t0.16\t|\t32.44\t|\t0\t|\n",
    "|7\t|\t4\t|\t3\t|\t0.91\t|\t22.78\t|\t0\t|\n",
    "|8\t|\t4\t|\t8\t|\t22.16\t|\t27.78\t|\t0\t|\n",
    "|9\t|\t8\t|\t4\t|\t24.16\t|\t1.11\t|\t1\t|\n",
    "|10\t|\t6\t|\t5\t|\t10.91\t|\t5.44\t|\t1\t|\n",
    "\n",
    "\n",
    "15. Iteration 4 - Step 3: The centroid of each cluster is re-calculated as the mean of the observations in the cluster, specifically (rounded to 2 decimal places):\n",
    "\n",
    "| Cluster | a | b | \n",
    "| --- | --- | --- | \n",
    "|0\t|\t 2.50 \t|\t 2.33 \t|\n",
    "|1\t|\t 7.00 \t|\t 5.60 \t|\n",
    "\n",
    "16.  Iteration 4 - Step 4: There has NOT been movement in clusters' centroids. This means we have obtained the optimum clustering, thus completing the clustering. The clusters and centroids assigned in iteration 4 is the final result of 2-means clustering."
   ]
  },
  {
   "cell_type": "markdown",
   "metadata": {},
   "source": [
    "### Task 2.3: Sanity check \n",
    "\n",
    "A sanity check is carried out by using the label for colouring the 2 clusters in the previous cluster, and the centroids are added in the same scatter plot, which indicates the clustering is indeed correct.  "
   ]
  },
  {
   "cell_type": "code",
   "execution_count": 200,
   "metadata": {
    "ExecuteTime": {
     "end_time": "2021-12-02T12:50:49.545350Z",
     "start_time": "2021-12-02T12:50:49.426561Z"
    },
    "scrolled": true
   },
   "outputs": [
    {
     "data": {
      "image/png": "[encoded data removed]",
      "text/plain": [
       "<Figure size 432x288 with 1 Axes>"
      ]
     },
     "metadata": {
      "needs_background": "light"
     },
     "output_type": "display_data"
    }
   ],
   "source": [
    "#import library\n",
    "import matplotlib.pyplot as plt\n",
    "\n",
    "#set final centroid  \n",
    "final_centroids = [[2.5, 2.33], [7,5.6]]\n",
    "x_centroid=np.array(final_centroids)[:,0]\n",
    "y_centroid=np.array(final_centroids)[:,1]\n",
    "\n",
    "#plot\n",
    "plt.scatter(x, y, c=t)\n",
    "plt.scatter(x_centroid,y_centroid,marker = \"x\", c=[0,1])\n",
    "plt\n",
    "plt.show()"
   ]
  },
  {
   "cell_type": "markdown",
   "metadata": {},
   "source": [
    "Another check is carried out by using Scikit learn's K-means clustering class. The result is similar."
   ]
  },
  {
   "cell_type": "code",
   "execution_count": 211,
   "metadata": {
    "ExecuteTime": {
     "end_time": "2021-12-02T13:20:38.250614Z",
     "start_time": "2021-12-02T13:20:38.235986Z"
    }
   },
   "outputs": [
    {
     "name": "stdout",
     "output_type": "stream",
     "text": [
      "[1 1 0 1 1 0 1 1 0 0 0]\n",
      "[[7.         5.6       ]\n",
      " [2.5        2.33333333]]\n",
      "2\n"
     ]
    }
   ],
   "source": [
    "#Assign initial centroids\n",
    "centre_1 = np.array([7, 7])\n",
    "centre_2 = np.array([10, 4])\n",
    "initial_centroids = np.row_stack([centre_1, centre_2])\n",
    "\n",
    "#import and fit small data to K-means clustering\n",
    "from sklearn.cluster import KMeans\n",
    "kmeans = KMeans(n_clusters=2)\n",
    "kmeans.fit(array)\n",
    "\n",
    "#print labels, values of clusters and number of iterations\n",
    "print(kmeans.labels_)\n",
    "print(kmeans.cluster_centers_)\n",
    "print(kmeans.n_iter_)"
   ]
  },
  {
   "cell_type": "markdown",
   "metadata": {},
   "source": [
    "## Task 3: Create a test harness\n",
    "Start preparing your implementation by first setting up a test (without having an implementation just yet!). In this way, you will follow a _test-driven development_ approach. As part of this work, you may choose to compare to a reference implementation, like the one shown in the below code example.\n",
    "> Marking information: Up to 20 points: identify suitable unit tests and integration tests. Explain what coverage you expect your test suite to have."
   ]
  },
  {
   "cell_type": "markdown",
   "metadata": {},
   "source": [
    "### Task 3.1: Unit tests\n",
    "\n",
    "First, unit tests will be created for each of the step specified in Task 2.\n",
    "\n",
    "#### Task 3.1.1: Unit test - Initiation:\n",
    "This has to ensure that the function for this step returns a list of initial centroids that:\n",
    "1. Have the same number of data points as requested\n",
    "2. All these data points are unique\n",
    "3. All these data points are in the orginal data set.\n",
    "\n",
    "Points 1 and 2 can be covered by comparing a set containing the generated initial centroid with k; while point 3 can be covered by looping through the list generated and assert whichever item is not in the original input data set."
   ]
  },
  {
   "cell_type": "code",
   "execution_count": 159,
   "metadata": {
    "ExecuteTime": {
     "end_time": "2021-12-01T22:24:43.034674Z",
     "start_time": "2021-12-01T22:24:43.009949Z"
    }
   },
   "outputs": [],
   "source": [
    "def ini_centroid_test(data=[], k=0):\n",
    "    \"Unit test for initiation function\"\n",
    "    #blackbox testing\n",
    "    test_data_1 = [[1,2,3],[13,84,235],[23,37,41],[144,875,612]]\n",
    "    test_data_2 =[[1],[2],[3]]\n",
    "    for _ in range(1000):\n",
    "        #check with test data 1\n",
    "        assert sorted(ini_centroid(test_data_1, 3)) in [[[1,2,3],[13,84,235],[23,37,41]],\n",
    "                                          [[1,2,3],[23,37,41],[144,875,612]],\n",
    "                                          [[1,2,3],[13,84,235],[144,875,612]],\n",
    "                                          [[13,84,235],[23,37,41],[144,875,612]]], ('not yielding '\n",
    "                                                                                    'expected initial ' \n",
    "                                                                                    'centroids')\n",
    "        #check with test data 2\n",
    "        assert sorted(ini_centroid(test_data_2, 2)) in [[[1],[2]], \n",
    "                                                           [[1],[3]], \n",
    "                                                           [[2],[3]]], ('not yielding '\n",
    "                                                                        'expected initial ' \n",
    "                                                                        'centroids')\n",
    "        \n",
    "    #white-box testing\n",
    "    \n",
    "    #check length of set of all centroid vs k\n",
    "    ini_centroids = ini_centroid(data, k)\n",
    "    assert len(set(tuple(obsv) for obsv in ini_centroids)) == k, ('not yielding the right number '\n",
    "                                                        f'of initial centroids: {k}') \n",
    "    \n",
    "    #check every item generated in list of initial centroid whether in original data set\n",
    "    for centroid in ini_centroids:\n",
    "        assert centroid in data, (f'initial centroid {centroid} not in original data set')\n",
    "        \n"
   ]
  },
  {
   "cell_type": "markdown",
   "metadata": {},
   "source": [
    "#### Task 3.1.2: Unit test - Assignment:\n",
    "\n",
    "Essentially, 2 sub-functions are required for this step: \n",
    "1. A sub-function calculating the squared Euclidean distance between 2 given points\n",
    "2. A sub-function assigning each observation points to the index of the nearest centroid (this will be utilized as the index for cluster itself). \n",
    "\n",
    "The unit tests will test the overall results returned by the assigning function and each of the 2 sub-functions given different data points (with different number of dimensions). "
   ]
  },
  {
   "cell_type": "code",
   "execution_count": 179,
   "metadata": {
    "ExecuteTime": {
     "end_time": "2021-12-01T23:07:30.342993Z",
     "start_time": "2021-12-01T23:07:30.319082Z"
    }
   },
   "outputs": [],
   "source": [
    "   \n",
    "# - sub-function testing calculating distance \n",
    "def distance_test(a=[], b=[]):\n",
    "    \"Unit test for the distance calculation sub-function of the assigning function\"\n",
    "    #check distance between 2 data points on 1 dimension \n",
    "    assert distance([3], [4]) == 1, ('Not returning correct distance (1d)')\n",
    "    assert distance([4], [4]) == 0, ('Not returning correct distance (1d)')\n",
    "\n",
    "    #check distance between 2 data points on 2 dimensions\n",
    "    assert distance([2,1], [3,0]) == 2, ('Not returning correct distance (2d)')\n",
    "    #check distance between A and B vs B and A to see if different \n",
    "    assert distance([3,0], [2,1]) == distance([2,1], [3,0]), ('Not returning correct distance (2d)')\n",
    "\n",
    "    #check distance between 2 data points on 3 dimensions\n",
    "    assert distance([10, 42, 15], [0, 40, 10]) == 129, ('Not returning correct distance (3d)')\n",
    "\n",
    "    #Squared Euclidean cannot be smaller than 0\n",
    "    assert distance([], []) >= 0, ('Distance cannot be less than 0')\n",
    "\n",
    "# - sub-function testing assigning data point to smallest distance \n",
    "def get_min_index_test():\n",
    "    \"Unit test for the finding the minimum index sub-function of the assigning function\"\n",
    "    #minimum of list with 1 item\n",
    "    assert get_min_index([10]) == 0, ('Not returning correct minimum distance')\n",
    "    #minimum of list with multiple items\n",
    "    assert get_min_index([10, 20.321, 1.2]) == 2, ('Not returning correct minimum distance')\n",
    "    #minimum of list with multiple instances of minimum value\n",
    "    assert get_min_index([1, -0.111, 0, 2, 3, 0.11, -0.111]) == 1, ('Not returning correct '\n",
    "                                                                   'minimum distance')\n",
    "    \n",
    "#main test function testing entire assignment step (including calling the 2 sub-functions above)    \n",
    "def assign_test(data=[], centroids=[]):\n",
    "    \"Unit test for assigning function\"\n",
    "    #white box testing with each sub-function \n",
    "    distance_test()\n",
    "    get_min_index_test()\n",
    "    #blackbox testing\n",
    "    assert assign(data=[[3,2], [3,3]], centroids=[[3,3], [3,2]]) == [1,0], (\"Not assigning correct \"\n",
    "                                                                            \"clusters\")\n",
    "    assert assign(data=[[4,2], [5,3], [9,4]], \n",
    "                  centroids=[[100,100], [6,6]]) == [1,1,1], (\"Not assigning correct \"\n",
    "                                                             \"clusters\")\n",
    "\n"
   ]
  },
  {
   "cell_type": "markdown",
   "metadata": {},
   "source": [
    "#### Task 3.1.3: Unit test - Update:\n",
    "\n",
    "This step requires 1 function to re-calculate each cluster's centroid as the mean value of all observations in the cluster. The unit test for this function will test whether the function returns the correct mean value for each set of inputs."
   ]
  },
  {
   "cell_type": "code",
   "execution_count": 154,
   "metadata": {
    "ExecuteTime": {
     "end_time": "2021-12-01T22:23:54.355718Z",
     "start_time": "2021-12-01T22:23:54.335349Z"
    }
   },
   "outputs": [],
   "source": [
    "def centroid_recal_test():\n",
    "    \"Unit test for the centroid re-calculation of the update function\"\n",
    "    assert centroid_recal([[3], [4]], [0,1]) == [[3], [4]], ('Not returning correct mean with 1 point '\n",
    "                                                             'each cluster')\n",
    "    assert centroid_recal([[-1,2], [3,4], [1.5,5], [5,6]],\n",
    "                         [0,1,0,1]) == [[0.25,3.5],[4,5]], ('Not returning correct mean with 2 points '\n",
    "                                                             'each cluster (2d)')\n",
    "    assert centroid_recal([[69,10,1,4], [96,420,3,5.6], [0,1,1,1], [0,1,1,1]],\n",
    "                         [1,1,0,0]) == [[0,1,1,1],[82.5,215,2,4.8]], ('Not returning correct mean with'\n",
    "                                                                      ' 2 points each cluster (4d)')\n"
   ]
  },
  {
   "cell_type": "markdown",
   "metadata": {},
   "source": [
    "#### Task 3.1.4: Unit test - Break:\n",
    "\n",
    "As broken down in Part 1, this step essentially requires a conditional statement to decide whether to stop the recursion of the functions. Therefore the test for this is essentially part of the integration test."
   ]
  },
  {
   "cell_type": "markdown",
   "metadata": {},
   "source": [
    "### Task 3.2: Integration test:\n",
    "\n",
    "The main steps of K-means clustering all uses the output of the last step as its input, which is quite straightforward, therefore the integration test will attempt to provide conditional coverage that covers all possible flows (detailed in the flow-chart above) of the main function:"
   ]
  },
  {
   "cell_type": "code",
   "execution_count": 143,
   "metadata": {
    "ExecuteTime": {
     "end_time": "2021-12-01T21:39:53.285113Z",
     "start_time": "2021-12-01T21:39:53.229727Z"
    }
   },
   "outputs": [],
   "source": [
    "# sub-function testing first condition to throw exception if data input is not nested list\n",
    "def type_error_test():\n",
    "    \"\"\"\n",
    "    Test to see if code correctly regulates the type of data input\n",
    "    \"\"\"\n",
    "    try:\n",
    "        k_means_clustering(data=[[1,2],2], k=2)\n",
    "        assert False, f\"Function not throwing Type Exception with wrong input type\"\n",
    "    except TypeError as exc:\n",
    "        assert True\n",
    "        \n",
    "#test second condition to throw exception if data input cannot be assigned to k clusters\n",
    "def value_error_test():\n",
    "    \"\"\"\n",
    "    Test to see if code correctly regulates data input - number of unique data points >= k\n",
    "    \"\"\"\n",
    "    try:\n",
    "        k_means_clustering(data=[[1,2],[1,2]], k=2)\n",
    "        assert False, f\"Function not throwing Value Exception with wrong input value\"\n",
    "    except ValueError as exc:\n",
    "        assert True\n",
    "\n",
    "def integration_test():        \n",
    "    type_error_test()            \n",
    "    value_error_test()\n",
    "    \n",
    "    #test function with case without needing more than 1 iteration\n",
    "    two_obs_dataset = [[2.5,1], [5,3]]\n",
    "    result_two_obs_dataset = k_means_clustering(data=two_obs_dataset, k=2)\n",
    "    \n",
    "    assert (((result_two_obs_dataset['Centroids'] == [[2.5,1], [5,3]]) &\n",
    "            (result_two_obs_dataset['Cluster Index'] == [0,1])) |\n",
    "            ((result_two_obs_dataset['Centroids'] == [[5,3], [2.5,1]]) &\n",
    "            (result_two_obs_dataset['Cluster Index'] == [1,0]))\n",
    "           ), \"Error clustering with initial centroids as final centroids\"\n",
    "            \n",
    "    #test whole function by small data set and large data set\n",
    "    #small data set\n",
    "    result_small_dataset = k_means_clustering(data=small_dataset, k=2)\n",
    "    assert (((result_small_dataset['Centroids'] == [[2.50,2.33],[7.00, 5.60]]) &\n",
    "            (result_small_dataset['Cluster Index'] == [0,0,1,0,0,1,0,0,1,1,1])) |\n",
    "            ((result_small_dataset['Centroids'] == [[7.00, 5.60],[2.50,2.33]]) &\n",
    "            (result_small_dataset['Cluster Index'] == [1,1,0,1,1,0,1,1,0,0,0]))\n",
    "           ), \"Error clustering with small data set\"\n",
    "    \n",
    "    #Iris data set\n",
    "    result_iris_dataset = k_means_clustering(data=iris_dataset, k=3)\n",
    "    assert (((result_iris_dataset['Centroids'] == [[6.85,3.07,5.74,2.07],\n",
    "                                                    [5.01,3.43,1.46,0.25],\n",
    "                                                    [5.90,2.75,4.39,1.43]]) &\n",
    "            (result_iris_dataset['Cluster Index'] == [1,1,1,1,1,1,1,1,1,1,1,1,1,1,1,1,1,\n",
    "                                                       1,1,1,1,1,1,1,1,1,1,1,1,1,1,1,1,1,\n",
    "                                                       1,1,1,1,1,1,1,1,1,1,1,1,1,1,1,1,2,\n",
    "                                                       2,0,2,2,2,2,2,2,2,2,2,2,2,2,2,2,2,\n",
    "                                                       2,2,2,2,2,2,2,2,2,0,2,2,2,2,2,2,2,\n",
    "                                                       2,2,2,2,2,2,2,2,2,2,2,2,2,2,2,0,2,\n",
    "                                                       0,0,0,0,2,0,0,0,0,0,0,2,2,0,0,0,0,\n",
    "                                                       2,0,2,0,2,0,0,2,2,0,0,0,0,0,2,0,0,\n",
    "                                                       0,0,2,0,0,0,2,0,0,0,2,0,0,2])) |\n",
    "            ((result_iris_dataset['Centroids'] == [[5.01,3.43,1.46,0.25],\n",
    "                                                    [6.85,3.07,5.74,2.07],\n",
    "                                                    [5.90,2.75,4.39,1.43]]) &\n",
    "            (result_iris_dataset['Cluster Index'] == [0,0,0,0,0,0,0,0,0,0,0,0,0,0,0,0,0,\n",
    "                                                       0,0,0,0,0,0,0,0,0,0,0,0,0,0,0,0,0,\n",
    "                                                       0,0,0,0,0,0,0,0,0,0,0,0,0,0,0,0,2,\n",
    "                                                       2,1,2,2,2,2,2,2,2,2,2,2,2,2,2,2,2,\n",
    "                                                       2,2,2,2,2,2,2,2,2,1,2,2,2,2,2,2,2,\n",
    "                                                       2,2,2,2,2,2,2,2,2,2,2,2,2,2,2,1,2,\n",
    "                                                       1,1,1,1,2,1,1,1,1,1,1,2,2,1,1,1,1,\n",
    "                                                       2,1,2,1,2,1,1,2,2,1,1,1,1,1,2,1,1,\n",
    "                                                       1,1,2,1,1,1,2,1,1,1,2,1,1,2])) |\n",
    "            ((result_iris_dataset['Centroids'] == [[6.85,3.07,5.74,2.07],\n",
    "                                                    [5.90,2.75,4.39,1.43],\n",
    "                                                    [5.01,3.43,1.46,0.25]]) &\n",
    "            (result_iris_dataset['Cluster Index'] == [2,2,2,2,2,2,2,2,2,2,2,2,2,2,2,2,2,\n",
    "                                                       2,2,2,2,2,2,2,2,2,2,2,2,2,2,2,2,2,\n",
    "                                                       2,2,2,2,2,2,2,2,2,2,2,2,2,2,2,2,1,\n",
    "                                                       1,0,1,1,1,1,1,1,1,1,1,1,1,1,1,1,1,\n",
    "                                                       1,1,1,1,1,1,1,1,1,0,1,1,1,1,1,1,1,\n",
    "                                                       1,1,1,1,1,1,1,1,1,1,1,1,1,1,1,0,1,\n",
    "                                                       0,0,0,0,1,0,0,0,0,0,0,1,1,0,0,0,0,\n",
    "                                                       1,0,1,0,1,0,0,1,1,0,0,0,0,0,1,0,0,\n",
    "                                                       0,0,1,0,0,0,1,0,0,0,1,0,0,1])) |\n",
    "            ((result_iris_dataset['Centroids'] == [[5.01,3.43,1.46,0.25],\n",
    "                                                     [5.90,2.75,4.39,1.43],\n",
    "                                                     [6.85,3.07,5.74,2.07]]) &\n",
    "            (result_iris_dataset['Cluster Index'] == [0,0,0,0,0,0,0,0,0,0,0,0,0,0,0,0,0,\n",
    "                                                       0,0,0,0,0,0,0,0,0,0,0,0,0,0,0,0,0,\n",
    "                                                       0,0,0,0,0,0,0,0,0,0,0,0,0,0,0,0,1,\n",
    "                                                       1,2,1,1,1,1,1,1,1,1,1,1,1,1,1,1,1,\n",
    "                                                       1,1,1,1,1,1,1,1,1,2,1,1,1,1,1,1,1,\n",
    "                                                       1,1,1,1,1,1,1,1,1,1,1,1,1,1,1,2,1,\n",
    "                                                       2,2,2,2,1,2,2,2,2,2,2,1,1,2,2,2,2,\n",
    "                                                       1,2,1,2,1,2,2,1,1,2,2,2,2,2,1,2,2,\n",
    "                                                       2,2,1,2,2,2,1,2,2,2,1,2,2,1])) |\n",
    "            ((result_iris_dataset['Centroids'] == [[5.90,2.75,4.39,1.43],\n",
    "                                                    [6.85,3.07,5.74,2.07],\n",
    "                                                    [5.01,3.43,1.46,0.25]]) &\n",
    "            (result_iris_dataset['Cluster Index'] == [2,2,2,2,2,2,2,2,2,2,2,2,2,2,2,2,2,\n",
    "                                                       2,2,2,2,2,2,2,2,2,2,2,2,2,2,2,2,2,\n",
    "                                                       2,2,2,2,2,2,2,2,2,2,2,2,2,2,2,2,0,\n",
    "                                                       0,1,0,0,0,0,0,0,0,0,0,0,0,0,0,0,0,\n",
    "                                                       0,0,0,0,0,0,0,0,0,1,0,0,0,0,0,0,0,\n",
    "                                                       0,0,0,0,0,0,0,0,0,0,0,0,0,0,0,1,0,\n",
    "                                                       1,1,1,1,0,1,1,1,1,1,1,0,0,1,1,1,1,\n",
    "                                                       0,1,0,1,0,1,1,0,0,1,1,1,1,1,0,1,1,\n",
    "                                                       1,1,0,1,1,1,0,1,1,1,0,1,1,0])) |\n",
    "            ((result_iris_dataset['Centroids'] == [[5.90,2.75,4.39,1.43],\n",
    "                                                    [5.01,3.43,1.46,0.25],\n",
    "                                                    [6.85,3.07,5.74,2.07]]) &\n",
    "            (result_iris_dataset['Cluster Index'] == [1,1,1,1,1,1,1,1,1,1,1,1,1,1,1,1,1,\n",
    "                                                       1,1,1,1,1,1,1,1,1,1,1,1,1,1,1,1,1,\n",
    "                                                       1,1,1,1,1,1,1,1,1,1,1,1,1,1,1,1,0,\n",
    "                                                       0,2,0,0,0,0,0,0,0,0,0,0,0,0,0,0,0,\n",
    "                                                       0,0,0,0,0,0,0,0,0,2,0,0,0,0,0,0,0,\n",
    "                                                       0,0,0,0,0,0,0,0,0,0,0,0,0,0,0,2,0,\n",
    "                                                       2,2,2,2,0,2,2,2,2,2,2,0,0,2,2,2,2,\n",
    "                                                       0,2,0,2,0,2,2,0,0,2,2,2,2,2,0,2,2,\n",
    "                                                       2,2,0,2,2,2,0,2,2,2,0,2,2,0]))\n",
    "           ), \"Error clustering with iris data set\"\n",
    "    \n"
   ]
  },
  {
   "cell_type": "markdown",
   "metadata": {},
   "source": [
    "## Task 4: Implement k-means clustering in Python\n",
    "\n",
    "You are now set to actually add the implementation. Note that you are expected to fully implement the mathematical operations instead of using a library function such as `scikit` or `statsmodels`. Your implementation may make several assumptions about the inputs provided to it. Make those explicit in comments. Also, provide an estimate on how long execution of your algorithm will take dependent on the input values. Express this estimate as a function of the inputs, such as the number of clusters and/or the number of data points.\n",
    "> Marking information: Up to 50 points: 30 points for a correctly working Python implementation, 10 points for describing limitations and assumptions of your implementation, and 10 points for a description of the complexity of your algorithm.\n"
   ]
  },
  {
   "cell_type": "markdown",
   "metadata": {},
   "source": [
    "## Task 4.1: K-means clustering implementation\n",
    "\n",
    "First all the sub-functions and functions for each step will be created.\n",
    "\n",
    "All these sub-functions will then be put together into a function that takes 2 arguments: the data-set: `data` and the number of cluster: `k`. This function assumes that:\n",
    "1. `Data`: The `data` input is a list, with each element a nested list containing the values of whatever number of features for each data point. The length of all nested list must be equal, as each element of this nested list is considered the value of a particular feature for that observation. The length of the overall list represents the number of data points input for clustering. \n",
    "\n",
    "2. `k`: The `k` input is an integer. The number of clusters must be less than or equal to the number of unique data points that was input."
   ]
  },
  {
   "cell_type": "code",
   "execution_count": 183,
   "metadata": {
    "ExecuteTime": {
     "end_time": "2021-12-01T23:58:49.207189Z",
     "start_time": "2021-12-01T23:58:49.191600Z"
    },
    "scrolled": false
   },
   "outputs": [],
   "source": [
    "import random as rand\n",
    "#sub-function to use in generating random initial centroids\n",
    "def append_rand_distinct (data=[], list_=[]):\n",
    "    \"Appends the `list_` with random values from data that are not in the list\"\n",
    "    range_choice = list(range(len(data)))\n",
    "    i = rand.choice(range_choice)\n",
    "    x = data[i]\n",
    "    if x not in list_:\n",
    "        list_.append(x)\n",
    "    else:\n",
    "        range_choice = range_choice.pop(i)\n",
    "        append_rand_distinct (data, list_)\n",
    "    return list_\n",
    "\n",
    "#Initiation function - step 1\n",
    "def ini_centroid(data, k):\n",
    "    \"Returns `k` random but unique initial centroids\"\n",
    "    initial_centroids = []    \n",
    "    for _ in range(k):\n",
    "        append_rand_distinct(data, initial_centroids)\n",
    "    return initial_centroids\n",
    "\n",
    "#Functions to be used in assignment step: \n",
    "# - sub-function calculating distance between 2 data points\n",
    "def distance(a=[], b=[]):\n",
    "    \"Returns the squared Euclidean distance between 2 data points\"\n",
    "    return sum([(a[i]-b[i])**2 for i in range(len(a))])\n",
    "\n",
    "# - sub-function finding the index of the smallest distance\n",
    "def get_min_index(data=[]):\n",
    "    \"\"\"Find the index of the item with the minimum value in a list \n",
    "    (defaults returns the smallest index if there are multiple items with minimum value)\"\"\"\n",
    "    min_value=min(data)\n",
    "    return data.index(min_value)\n",
    "\n",
    "#Assignment function - step 2\n",
    "def assign(data=[], centroids=[]):\n",
    "    \"Assign each data point in `data` to their corresponding cluster, given the `centroids`\"\n",
    "    distance_list = [[distance(x,centroid) for centroid in centroids] \n",
    "                     for x in data]\n",
    "    cluster_index = [get_min_index(i) for i in distance_list]\n",
    "    return cluster_index\n",
    "\n",
    "#Functions to be used in update step: \n",
    "# - sub-function to get mean of a list of values\n",
    "def mean(data=[]):\n",
    "    \"Returns the mean (average) value of a list\"\n",
    "    return sum(data)/len(data)\n",
    "\n",
    "#Update function - step 3\n",
    "def centroid_recal(data=[], cluster_index=[]):\n",
    "    \"Recalculates the centroids of each cluster given data and data's cluster index\"\n",
    "    new_centroids=[]\n",
    "    for i in range(len(set(cluster_index))):\n",
    "        cluster_data=[data[x] for x in range(len(data)) if index[x]==i]\n",
    "        new_centroid=[mean([dim[z] for dim in cluster_data]) for z in range(len(cluster_data[0]))]\n",
    "        new_centroids.append(new_centroid)\n",
    "    return new_centroids\n",
    "\n"
   ]
  },
  {
   "cell_type": "markdown",
   "metadata": {},
   "source": [
    "The final function:"
   ]
  },
  {
   "cell_type": "code",
   "execution_count": 172,
   "metadata": {
    "ExecuteTime": {
     "end_time": "2021-12-01T22:57:18.184547Z",
     "start_time": "2021-12-01T22:57:18.168546Z"
    }
   },
   "outputs": [],
   "source": [
    "def k_means_clustering(data=[],k=3):\n",
    "    \"\"\"\n",
    "    Returns clustering results given the data and the number of clusters to partition the data by.\n",
    "    1. `Data`: The data set to perform k-means clustering on. \n",
    "                type: list. \n",
    "                The data input is a list, with each element representing a data point.\n",
    "                Each of this element has to be a nested list, the element of which represents \n",
    "                the value of a particular feature for each data point. \n",
    "                The length of all nested list must be equal.  \n",
    "\n",
    "    2. `k`: The number of clusters to partition data by. \n",
    "            type: int.\n",
    "            The number of clusters must be less than or equal to the number of unique data points.\n",
    "    \n",
    "    This function returns a dictionary containing 3 items:\n",
    "    1. 'Number of iteration': (int) the number of iterations the function to reach the final cluster.\n",
    "    2. 'Centroids': (list) the centroids of the final clusters.\n",
    "    3. 'Cluster_index': (list) the index of the cluster that each data point belongs to (starts from 0).\n",
    "        This corresponds to the order of the input data.\n",
    "        \n",
    "        \n",
    "    E.g.: k_means_clustering(data=[[1, 2], [3, 4]], 2)\n",
    "    >>  {'Number of iteration': 0, 'Centroids': [[1, 2], [3, 4]], 'Cluster_index':[0, 1]}\n",
    "    \"\"\"\n",
    "    for x in data:\n",
    "        if type(x) != list:\n",
    "            raise TypeError(f'Input data not in correct format (index {x})' \n",
    "                                'Input data required to be list containing nested list of same length, '\n",
    "                                'each of which represents attributes of one observation')\n",
    "        elif len(x)!= len(data[0]):\n",
    "            raise TypeError(f'Input data not in correct format (index {x}) ' \n",
    "                            'Input data required to be list containing nested list of same length, '\n",
    "                            'each of which represents attributes of one observation')\n",
    "    \n",
    "    if len(set(tuple(obsv) for obsv in data)) < k:\n",
    "        raise ValueError('Number of distinct observations ' \n",
    "                         f'smaller than number of desired centroid ({k})')\n",
    "    else:    \n",
    "        centroids = ini_centroid(data, k)\n",
    "        no_iter = 0\n",
    "        cluster_index = assign(data=data, centroids=centroids)\n",
    "        new_centroids = centroid_recal(data,cluster_index)\n",
    "        \n",
    "        while centroids != new_centroids:\n",
    "            centroids=new_centroids\n",
    "            no_iter+=1\n",
    "            cluster_index = assign(data=data, centroids=centroids)\n",
    "            new_centroids = centroid_recal(data,cluster_index)\n",
    "            \n",
    "        centroids= [[round(x,2) for x in centroid] for centroid in centroids]\n",
    "        \n",
    "    return {'Number of iteration': no_iter, 'Centroids': centroids, 'Cluster Index': cluster_index}\n",
    "        \n"
   ]
  },
  {
   "cell_type": "markdown",
   "metadata": {},
   "source": [
    "This function is used against both data sets for a quick sanity check. The results seems to be correct. "
   ]
  },
  {
   "cell_type": "code",
   "execution_count": 182,
   "metadata": {
    "ExecuteTime": {
     "end_time": "2021-12-01T23:49:29.451342Z",
     "start_time": "2021-12-01T23:49:29.427329Z"
    },
    "scrolled": true
   },
   "outputs": [
    {
     "name": "stdout",
     "output_type": "stream",
     "text": [
      "{'Number of iteration': 1, 'Centroids': [[2.5, 2.33], [7.0, 5.6]], 'Cluster Index': [0, 0, 1, 0, 0, 1, 0, 0, 1, 1, 1]}\n",
      "{'Number of iteration': 5, 'Centroids': [[6.85, 3.07, 5.74, 2.07], [5.01, 3.43, 1.46, 0.25], [5.9, 2.75, 4.39, 1.43]], 'Cluster Index': [1, 1, 1, 1, 1, 1, 1, 1, 1, 1, 1, 1, 1, 1, 1, 1, 1, 1, 1, 1, 1, 1, 1, 1, 1, 1, 1, 1, 1, 1, 1, 1, 1, 1, 1, 1, 1, 1, 1, 1, 1, 1, 1, 1, 1, 1, 1, 1, 1, 1, 2, 2, 0, 2, 2, 2, 2, 2, 2, 2, 2, 2, 2, 2, 2, 2, 2, 2, 2, 2, 2, 2, 2, 2, 2, 2, 2, 0, 2, 2, 2, 2, 2, 2, 2, 2, 2, 2, 2, 2, 2, 2, 2, 2, 2, 2, 2, 2, 2, 2, 0, 2, 0, 0, 0, 0, 2, 0, 0, 0, 0, 0, 0, 2, 2, 0, 0, 0, 0, 2, 0, 2, 0, 2, 0, 0, 2, 2, 0, 0, 0, 0, 0, 2, 0, 0, 0, 0, 2, 0, 0, 0, 2, 0, 0, 0, 2, 0, 0, 2]}\n",
      "{'Number of iteration': 0, 'Centroids': [[1], [2]], 'Cluster Index': [0, 1]}\n"
     ]
    }
   ],
   "source": [
    "small_result = k_means_clustering(small_dataset, 2)\n",
    "iris_result = k_means_clustering(iris_dataset, 3)\n",
    "\n",
    "print(small_result)     \n",
    "print(iris_result)\n"
   ]
  },
  {
   "cell_type": "markdown",
   "metadata": {},
   "source": [
    "## Task 4.2: Testing the function and function limitations\n",
    "This function is further tested by the created unit test and integration tests.\n",
    "\n",
    "The function passes all unit tests, however when re-running the integration test function, there were times (not all) where the test asserts a different result for the iris data set compared to sklearn. This is a limitation of the current function as well as the K-means clustering method itself, as it chooses `k` intial centroids at random and iterates until there are no further changes in cluster and centroid, and these randomness will affect the final result, meaning the function may not return a single result every time for one data set.\n",
    "\n",
    "This can be preventable, as demonstrated in sklearn's implementation, by using a different technique of initializing centroids (k-means++), or by running the clustering multiple times with different initial centroids and choosing the best performing cluster (the cluster that minimizes the total within cluster sum of squares). Currently the function does not calculate such a statistic, or can perform these comparisons."
   ]
  },
  {
   "cell_type": "code",
   "execution_count": 187,
   "metadata": {
    "ExecuteTime": {
     "end_time": "2021-12-02T00:16:18.174019Z",
     "start_time": "2021-12-02T00:16:18.150015Z"
    }
   },
   "outputs": [],
   "source": [
    "#unit tests\n",
    "ini_centroid_test()\n",
    "assign_test()\n",
    "centroid_recal_test()\n"
   ]
  },
  {
   "cell_type": "code",
   "execution_count": 188,
   "metadata": {
    "ExecuteTime": {
     "end_time": "2021-12-02T00:16:25.668870Z",
     "start_time": "2021-12-02T00:16:25.620602Z"
    }
   },
   "outputs": [
    {
     "ename": "AssertionError",
     "evalue": "Error clustering with iris data set",
     "output_type": "error",
     "traceback": [
      "\u001b[1;31m---------------------------------------------------------------------------\u001b[0m",
      "\u001b[1;31mAssertionError\u001b[0m                            Traceback (most recent call last)",
      "\u001b[1;32m<ipython-input-188-a9da9bc64117>\u001b[0m in \u001b[0;36m<module>\u001b[1;34m\u001b[0m\n\u001b[1;32m----> 1\u001b[1;33m \u001b[0mintegration_test\u001b[0m\u001b[1;33m(\u001b[0m\u001b[1;33m)\u001b[0m\u001b[1;33m\u001b[0m\u001b[1;33m\u001b[0m\u001b[0m\n\u001b[0m",
      "\u001b[1;32m<ipython-input-143-e49ca22bfa3f>\u001b[0m in \u001b[0;36mintegration_test\u001b[1;34m()\u001b[0m\n\u001b[0;32m     50\u001b[0m \u001b[1;33m\u001b[0m\u001b[0m\n\u001b[0;32m     51\u001b[0m \u001b[1;33m\u001b[0m\u001b[0m\n\u001b[1;32m---> 52\u001b[1;33m     assert (((result_iris_dataset['Centroids'] == [[6.85,3.07,5.74,2.07],\n\u001b[0m\u001b[0;32m     53\u001b[0m                                                     \u001b[1;33m[\u001b[0m\u001b[1;36m5.01\u001b[0m\u001b[1;33m,\u001b[0m\u001b[1;36m3.43\u001b[0m\u001b[1;33m,\u001b[0m\u001b[1;36m1.46\u001b[0m\u001b[1;33m,\u001b[0m\u001b[1;36m0.25\u001b[0m\u001b[1;33m]\u001b[0m\u001b[1;33m,\u001b[0m\u001b[1;33m\u001b[0m\u001b[1;33m\u001b[0m\u001b[0m\n\u001b[0;32m     54\u001b[0m                                                     [5.90,2.75,4.39,1.43]]) &\n",
      "\u001b[1;31mAssertionError\u001b[0m: Error clustering with iris data set"
     ]
    }
   ],
   "source": [
    "# integration test fail\n",
    "integration_test()"
   ]
  },
  {
   "cell_type": "code",
   "execution_count": 214,
   "metadata": {
    "ExecuteTime": {
     "end_time": "2021-12-02T13:23:35.527544Z",
     "start_time": "2021-12-02T13:23:35.510584Z"
    }
   },
   "outputs": [
    {
     "name": "stdout",
     "output_type": "stream",
     "text": [
      "checking\n"
     ]
    }
   ],
   "source": [
    "# integration test pass\n",
    "integration_test()\n",
    "print('checking')"
   ]
  },
  {
   "cell_type": "markdown",
   "metadata": {},
   "source": [
    "## Task 4.3: Function complexity estimation:\n",
    "\n",
    "The following break down of function complexity assumes that the inputs (`data` and `k`) are of correct type. \n",
    "Let `k` denotes the number of clusters, `n` denotes the number data points, `d` denotes the number of dimensions (or features), and `i` denotes the number of iterations needed to be performed until the final cluster.\n",
    "\n",
    "The algorithm can be estimated by breaking down each step:\n",
    "\n",
    "1. Initial step: This requires picking out k number of data points from n, meaning it will take up $k*I$ time (I being the time to pick up 1 random data point.\n",
    "\n",
    "2. Assigment step: This requires looping through the entire `n` number of data points and \n",
    "    1. Calculating the distance of each of the `d` number of dimensions compared to each of the `k` number of clusters;\n",
    "    2. Adding all of the dimension distance up;\n",
    "    3. Finding the smallest value among the k distances. \n",
    "    Therefore the complexity of this step can be denoted as $n*(dkE + kA(d) + M(k))$, with E being the time it takes to calculate the squared Euclidean distance between 2 numbers; A(d) being the time it takes to add d numbers together; M(k) being the time it takes to find the minimum index among k numbers.\n",
    "\n",
    "3. Update step: This requires looping through `k` clusters and calculating the length and sum of all data points in each cluster, and then dividing the 2 number for `d` dimensions. Therefore the complexity of this step can be denoted as $\\sum_{1}^{k} d(L(n_k) + A(n_k) + D)$, with $n_k$ being the number of data points in each cluster,  $L(n_k)$ being the time it takes to find the length of a list with n_k number, $A(n_k)$ being the time it takes to add $n_k$ numbers together, and D is the time it takes to divide 2 numbers.\n",
    "\n",
    "4. Break step: This requires comparing 2 lists representing the new centroids and the old centroids with `k` elements, with each element a nested list with `d` elements. Therefore the complexity of this step can be denoted as $C(k)*C(d)$, with C(i) being the time it takes to compare 2 lists with `i` elements.\n",
    "\n",
    "The algorithm's run time also depends on how many iterations required to find the final clusters. The steps 2, 3 and 4 will be repeated as many times as the value of this number of iterations.\n",
    "\n",
    "Therefore, the final function of complexity of this algorithm is:\n",
    "\n",
    "$$k*I + i( n*(dkE + kA(d) + M(k))+\\sum_{1}^{k} d(L(n_k) + A(n_k) + D)+C(k)*C(d))$$"
   ]
  },
  {
   "cell_type": "markdown",
   "metadata": {},
   "source": [
    "## Optional Task 5: Add a visualisation\n",
    "Identify a suitable library to depict both your inputs as well as the results of k-means clustering applied to those inputs.\n",
    "> Marking information: Up to 20 _bonus_ points: if you choose to complete this _optional_ task, you may be able to recover marks lost elsewhere."
   ]
  },
  {
   "cell_type": "markdown",
   "metadata": {},
   "source": [
    "The visualization for the small data set have been performed above in Task 2's sanity check.\n",
    "\n",
    "Therefore here only the visualization of the iris dataset will be provided, using scatter matrix plot from pandas to visualize a 4-dimensional dataset using multiple 2-dimensional scatter plots: "
   ]
  },
  {
   "cell_type": "code",
   "execution_count": 216,
   "metadata": {
    "ExecuteTime": {
     "end_time": "2021-12-02T13:24:45.189945Z",
     "start_time": "2021-12-02T13:24:44.534761Z"
    }
   },
   "outputs": [
    {
     "data": {
      "image/png": "[encoded data removed]",
      "text/plain": [
       "<Figure size 432x288 with 16 Axes>"
      ]
     },
     "metadata": {
      "needs_background": "light"
     },
     "output_type": "display_data"
    }
   ],
   "source": [
    "import matplotlib.pyplot as plt\n",
    "import pandas as pd\n",
    "from pandas.plotting import scatter_matrix\n",
    "\n",
    "cluster_iris = iris_result['Cluster Index']\n",
    "\n",
    "#creating data frame for pandas\n",
    "dataframe = pd.DataFrame(iris['data'], columns=iris['feature_names'])\n",
    "#ploting scatter graph of species comparing all features to each other\n",
    "scatter_matrix(dataframe, c=cluster_iris,\n",
    "               marker='o', s=10,alpha=.8)\n",
    "plt.show()"
   ]
  }
 ],
 "metadata": {
  "kernelspec": {
   "display_name": "Python 3",
   "language": "python",
   "name": "python3"
  },
  "language_info": {
   "codemirror_mode": {
    "name": "ipython",
    "version": 3
   },
   "file_extension": ".py",
   "mimetype": "text/x-python",
   "name": "python",
   "nbconvert_exporter": "python",
   "pygments_lexer": "ipython3",
   "version": "3.8.8"
  },
  "toc": {
   "base_numbering": 1,
   "nav_menu": {},
   "number_sections": true,
   "sideBar": true,
   "skip_h1_title": false,
   "title_cell": "Table of Contents",
   "title_sidebar": "Contents",
   "toc_cell": false,
   "toc_position": {},
   "toc_section_display": true,
   "toc_window_display": false
  },
  "varInspector": {
   "cols": {
    "lenName": 16,
    "lenType": 16,
    "lenVar": 40
   },
   "kernels_config": {
    "python": {
     "delete_cmd_postfix": "",
     "delete_cmd_prefix": "del ",
     "library": "var_list.py",
     "varRefreshCmd": "print(var_dic_list())"
    },
    "r": {
     "delete_cmd_postfix": ") ",
     "delete_cmd_prefix": "rm(",
     "library": "var_list.r",
     "varRefreshCmd": "cat(var_dic_list()) "
    }
   },
   "types_to_exclude": [
    "module",
    "function",
    "builtin_function_or_method",
    "instance",
    "_Feature"
   ],
   "window_display": false
  }
 },
 "nbformat": 4,
 "nbformat_minor": 4
}
