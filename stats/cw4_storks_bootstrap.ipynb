{
 "cells": [
  {
   "cell_type": "markdown",
   "id": "3cdf8e5e",
   "metadata": {},
   "source": [
    "# ECS7024 Coursework 4 Submission - Huy Quang Pham \n",
    "# Additional Analysis of the Storks Data\n",
    "\n",
    "**Table of Content**\n",
    "1. Section 1: Introduction and outline\n",
    "    1. Introduction and Outline\n",
    "    1. Loading the data\n",
    "1. Section 2: Analysis 1 - Models explaining the variability of number of birth \n",
    "    1. Two regression models based on current data\n",
    "    1. Estimating the difference between the $R^2$ of the two models using bootstrap method to resample data \n",
    "1. Section 3: Analysis 2: Models explaining the variability of number of storks \n",
    "    1. Part 3.1: Two regression models based on current data\n",
    "    1. Part 3.2: Estimating the difference between the Root Mean Squared Error of the two models using bootstrap method to resample data"
   ]
  },
  {
   "cell_type": "code",
   "execution_count": 1,
   "id": "ae81c2ea",
   "metadata": {
    "ExecuteTime": {
     "end_time": "2021-11-22T03:36:50.882979Z",
     "start_time": "2021-11-22T03:36:49.546461Z"
    }
   },
   "outputs": [
    {
     "name": "stdout",
     "output_type": "stream",
     "text": [
      "C:\\Users\\Huy's\\OneDrive\\qmul_2021-22\\statistics_foundation\\coursework\\cw4\n"
     ]
    }
   ],
   "source": [
    "# Importing a few packages that are expected to be used\n",
    "import pandas as pd\n",
    "import matplotlib.pyplot as plt\n",
    "#import matplotlib.dates as mdates\n",
    "#%matplotlib inline\n",
    "import numpy as np\n",
    "import scipy.stats as stats\n",
    "from sklearn.linear_model import LinearRegression\n",
    "from sklearn.metrics import mean_squared_error\n",
    "from sklearn.utils import resample\n",
    "\n",
    "%cd \"C:\\\\Users\\\\Huy's\\\\OneDrive\\\\qmul_2021-22\\\\statistics_foundation\\\\coursework\\\\cw4\""
   ]
  },
  {
   "cell_type": "markdown",
   "id": "f90a6d66",
   "metadata": {},
   "source": [
    "## Section 1: Introduction and Outline\n",
    "This notebook details the analysis process of the statistical significance of a particular statistic of two given models, based on the Storks data and instructions outlined in the coursework requirement. The detailed models and model statistic in use is further specified below. \n",
    "\n",
    "### Section 1.A: Outline\n",
    "Analysis 1 will be discussed in Section 2, where 2 models using number of storks and population size as the respective predictors for the number of births is implemented. These models will first use the original data, and then the bootstrap will be used to get a distribution of $R^2$ values, which will be used to determine whether we can be confident that one of the models explains more of the variability than the other model.  \n",
    "\n",
    "Analysis 2 will be discussed in Section 3, where 2 models using (i) land area and (ii) population density and area of suitable land as respective predictors for the number of storks is implemented. These models will first use the original data, and then the bootstrap will be used to get a distribution of Root Mean Squared Error values, which will be used to determine whether we can be confident that one of the models predicts the number of storks better than the other model.  \n",
    "\n",
    "### Section 1.B: Loading the data\n",
    "Data from source tables will be defaultly imported."
   ]
  },
  {
   "cell_type": "code",
   "execution_count": 2,
   "id": "3b62f972",
   "metadata": {
    "ExecuteTime": {
     "end_time": "2021-11-22T03:36:50.913972Z",
     "start_time": "2021-11-22T03:36:50.884966Z"
    },
    "scrolled": false
   },
   "outputs": [
    {
     "name": "stdout",
     "output_type": "stream",
     "text": [
      "General information and first 10 lines of data of the file:\n",
      "\n",
      "<class 'pandas.core.frame.DataFrame'>\n",
      "RangeIndex: 17 entries, 0 to 16\n",
      "Data columns (total 6 columns):\n",
      " #   Column               Non-Null Count  Dtype  \n",
      "---  ------               --------------  -----  \n",
      " 0   Country              17 non-null     object \n",
      " 1   Area                 17 non-null     int64  \n",
      " 2   Storks               17 non-null     int64  \n",
      " 3   Humans               17 non-null     float64\n",
      " 4   BirthRate            17 non-null     int64  \n",
      " 5   SuitableAreaPercent  17 non-null     float64\n",
      "dtypes: float64(2), int64(3), object(1)\n",
      "memory usage: 944.0+ bytes\n"
     ]
    },
    {
     "data": {
      "text/plain": [
       "None"
      ]
     },
     "metadata": {},
     "output_type": "display_data"
    },
    {
     "data": {
      "text/html": [
       "<div>\n",
       "<style scoped>\n",
       "    .dataframe tbody tr th:only-of-type {\n",
       "        vertical-align: middle;\n",
       "    }\n",
       "\n",
       "    .dataframe tbody tr th {\n",
       "        vertical-align: top;\n",
       "    }\n",
       "\n",
       "    .dataframe thead th {\n",
       "        text-align: right;\n",
       "    }\n",
       "</style>\n",
       "<table border=\"1\" class=\"dataframe\">\n",
       "  <thead>\n",
       "    <tr style=\"text-align: right;\">\n",
       "      <th></th>\n",
       "      <th>Country</th>\n",
       "      <th>Area</th>\n",
       "      <th>Storks</th>\n",
       "      <th>Humans</th>\n",
       "      <th>BirthRate</th>\n",
       "      <th>SuitableAreaPercent</th>\n",
       "    </tr>\n",
       "  </thead>\n",
       "  <tbody>\n",
       "    <tr>\n",
       "      <th>0</th>\n",
       "      <td>Albania</td>\n",
       "      <td>28750</td>\n",
       "      <td>100</td>\n",
       "      <td>3.2</td>\n",
       "      <td>83</td>\n",
       "      <td>55.68</td>\n",
       "    </tr>\n",
       "    <tr>\n",
       "      <th>1</th>\n",
       "      <td>Austria</td>\n",
       "      <td>83860</td>\n",
       "      <td>300</td>\n",
       "      <td>7.6</td>\n",
       "      <td>87</td>\n",
       "      <td>38.34</td>\n",
       "    </tr>\n",
       "    <tr>\n",
       "      <th>2</th>\n",
       "      <td>Belgium</td>\n",
       "      <td>30520</td>\n",
       "      <td>1</td>\n",
       "      <td>9.9</td>\n",
       "      <td>118</td>\n",
       "      <td>65.93</td>\n",
       "    </tr>\n",
       "    <tr>\n",
       "      <th>3</th>\n",
       "      <td>Bulgaria</td>\n",
       "      <td>111000</td>\n",
       "      <td>5000</td>\n",
       "      <td>9.0</td>\n",
       "      <td>117</td>\n",
       "      <td>57.99</td>\n",
       "    </tr>\n",
       "    <tr>\n",
       "      <th>4</th>\n",
       "      <td>Denmark</td>\n",
       "      <td>43100</td>\n",
       "      <td>9</td>\n",
       "      <td>5.1</td>\n",
       "      <td>59</td>\n",
       "      <td>81.46</td>\n",
       "    </tr>\n",
       "    <tr>\n",
       "      <th>5</th>\n",
       "      <td>France</td>\n",
       "      <td>544000</td>\n",
       "      <td>140</td>\n",
       "      <td>56.0</td>\n",
       "      <td>774</td>\n",
       "      <td>58.47</td>\n",
       "    </tr>\n",
       "    <tr>\n",
       "      <th>6</th>\n",
       "      <td>Germany</td>\n",
       "      <td>357000</td>\n",
       "      <td>3300</td>\n",
       "      <td>78.0</td>\n",
       "      <td>901</td>\n",
       "      <td>59.81</td>\n",
       "    </tr>\n",
       "    <tr>\n",
       "      <th>7</th>\n",
       "      <td>Greece</td>\n",
       "      <td>132000</td>\n",
       "      <td>2500</td>\n",
       "      <td>10.0</td>\n",
       "      <td>106</td>\n",
       "      <td>47.31</td>\n",
       "    </tr>\n",
       "    <tr>\n",
       "      <th>8</th>\n",
       "      <td>Holland</td>\n",
       "      <td>41900</td>\n",
       "      <td>4</td>\n",
       "      <td>15.0</td>\n",
       "      <td>188</td>\n",
       "      <td>70.96</td>\n",
       "    </tr>\n",
       "    <tr>\n",
       "      <th>9</th>\n",
       "      <td>Hungary</td>\n",
       "      <td>93000</td>\n",
       "      <td>5000</td>\n",
       "      <td>11.0</td>\n",
       "      <td>124</td>\n",
       "      <td>75.86</td>\n",
       "    </tr>\n",
       "    <tr>\n",
       "      <th>10</th>\n",
       "      <td>Italy</td>\n",
       "      <td>301280</td>\n",
       "      <td>5</td>\n",
       "      <td>57.0</td>\n",
       "      <td>551</td>\n",
       "      <td>60.30</td>\n",
       "    </tr>\n",
       "    <tr>\n",
       "      <th>11</th>\n",
       "      <td>Poland</td>\n",
       "      <td>312680</td>\n",
       "      <td>30000</td>\n",
       "      <td>38.0</td>\n",
       "      <td>610</td>\n",
       "      <td>64.09</td>\n",
       "    </tr>\n",
       "    <tr>\n",
       "      <th>12</th>\n",
       "      <td>Portugal</td>\n",
       "      <td>92390</td>\n",
       "      <td>1500</td>\n",
       "      <td>10.0</td>\n",
       "      <td>120</td>\n",
       "      <td>52.51</td>\n",
       "    </tr>\n",
       "    <tr>\n",
       "      <th>13</th>\n",
       "      <td>Romania</td>\n",
       "      <td>237500</td>\n",
       "      <td>5000</td>\n",
       "      <td>23.0</td>\n",
       "      <td>367</td>\n",
       "      <td>62.49</td>\n",
       "    </tr>\n",
       "    <tr>\n",
       "      <th>14</th>\n",
       "      <td>Spain</td>\n",
       "      <td>504750</td>\n",
       "      <td>8000</td>\n",
       "      <td>39.0</td>\n",
       "      <td>439</td>\n",
       "      <td>59.57</td>\n",
       "    </tr>\n",
       "    <tr>\n",
       "      <th>15</th>\n",
       "      <td>Switzerland</td>\n",
       "      <td>41290</td>\n",
       "      <td>150</td>\n",
       "      <td>6.7</td>\n",
       "      <td>82</td>\n",
       "      <td>43.19</td>\n",
       "    </tr>\n",
       "    <tr>\n",
       "      <th>16</th>\n",
       "      <td>Turkey</td>\n",
       "      <td>779450</td>\n",
       "      <td>25000</td>\n",
       "      <td>56.0</td>\n",
       "      <td>1576</td>\n",
       "      <td>65.97</td>\n",
       "    </tr>\n",
       "  </tbody>\n",
       "</table>\n",
       "</div>"
      ],
      "text/plain": [
       "        Country    Area  Storks  Humans  BirthRate  SuitableAreaPercent\n",
       "0       Albania   28750     100     3.2         83                55.68\n",
       "1       Austria   83860     300     7.6         87                38.34\n",
       "2       Belgium   30520       1     9.9        118                65.93\n",
       "3      Bulgaria  111000    5000     9.0        117                57.99\n",
       "4       Denmark   43100       9     5.1         59                81.46\n",
       "5        France  544000     140    56.0        774                58.47\n",
       "6       Germany  357000    3300    78.0        901                59.81\n",
       "7        Greece  132000    2500    10.0        106                47.31\n",
       "8       Holland   41900       4    15.0        188                70.96\n",
       "9       Hungary   93000    5000    11.0        124                75.86\n",
       "10        Italy  301280       5    57.0        551                60.30\n",
       "11       Poland  312680   30000    38.0        610                64.09\n",
       "12     Portugal   92390    1500    10.0        120                52.51\n",
       "13      Romania  237500    5000    23.0        367                62.49\n",
       "14        Spain  504750    8000    39.0        439                59.57\n",
       "15  Switzerland   41290     150     6.7         82                43.19\n",
       "16       Turkey  779450   25000    56.0       1576                65.97"
      ]
     },
     "metadata": {},
     "output_type": "display_data"
    }
   ],
   "source": [
    "df = pd.read_csv(\"storks.csv\")\n",
    "\n",
    "print('General information and first 10 lines of data of the file:\\n')\n",
    "display(df.info())\n",
    "display(df)"
   ]
  },
  {
   "cell_type": "markdown",
   "id": "5c72b815",
   "metadata": {},
   "source": [
    "According to the Storks deliver Babies paper, the `Area` are displayed in $km^2$,  `Storks` are displayed in pairs, `Humans` in millions and `BirthRate` in thousands per year."
   ]
  },
  {
   "cell_type": "markdown",
   "id": "d8baf6ba",
   "metadata": {},
   "source": [
    "## Section 2: Analysis 1 - Models explaining the variability of number of birth \n",
    "\n",
    "### Section 2.A: Regression models based on current data\n",
    "\n",
    "This analysis looks at 2 regression models: Model 1 uses number of stork pairs as the predictor variable and Birth rate as the dependent variable; model 2 uses population size of humans as the predictor variable and Birth rate as the dependent variable.\n",
    "\n",
    "2 scatter plot will be drawn to examine the relationship between Storks number and Birth number, as well as between Population size and Birth number."
   ]
  },
  {
   "cell_type": "code",
   "execution_count": 3,
   "id": "9e67d815",
   "metadata": {
    "ExecuteTime": {
     "end_time": "2021-11-22T03:36:51.193626Z",
     "start_time": "2021-11-22T03:36:50.915972Z"
    },
    "scrolled": false
   },
   "outputs": [
    {
     "data": {
      "text/plain": [
       "<AxesSubplot:xlabel='Humans', ylabel='BirthRate'>"
      ]
     },
     "execution_count": 3,
     "metadata": {},
     "output_type": "execute_result"
    },
    {
     "data": {
      "image/png": "[encoded data removed]",
      "text/plain": [
       "<Figure size 1008x720 with 2 Axes>"
      ]
     },
     "metadata": {
      "needs_background": "light"
     },
     "output_type": "display_data"
    }
   ],
   "source": [
    "fig, (a1,a2) = plt.subplots(2, 1, figsize=(14,10))\n",
    "#plt.scatter(y = hearts.MaxRate, x= hearts.Age, ax=a1)\n",
    "df.plot(kind='scatter',  x='Storks', y='BirthRate', ax=a1)\n",
    "df.plot(kind='scatter',  x='Humans', y='BirthRate', ax=a2)"
   ]
  },
  {
   "cell_type": "markdown",
   "id": "aa1defba",
   "metadata": {},
   "source": [
    "Based on the scatter plot, the relationship between Human population and Birth Rate is more visibly linear compared to that between Storks and Birth Rate. This will be confirmed by running 2 linear regression models."
   ]
  },
  {
   "cell_type": "code",
   "execution_count": 4,
   "id": "d7639a8f",
   "metadata": {
    "ExecuteTime": {
     "end_time": "2021-11-22T03:36:51.209062Z",
     "start_time": "2021-11-22T03:36:51.195970Z"
    }
   },
   "outputs": [],
   "source": [
    "#set y values for both models\n",
    "y_Birth = df.BirthRate \n",
    "#set x values for Model 1 \n",
    "X_Storks = np.array(df.Storks).reshape(-1, 1)\n",
    "#set x values for Model 2\n",
    "X_Humans = np.array(df.Humans).reshape(-1, 1)"
   ]
  },
  {
   "cell_type": "code",
   "execution_count": 5,
   "id": "75d4c3e8",
   "metadata": {
    "ExecuteTime": {
     "end_time": "2021-11-22T03:36:51.224702Z",
     "start_time": "2021-11-22T03:36:51.210114Z"
    }
   },
   "outputs": [
    {
     "name": "stdout",
     "output_type": "stream",
     "text": [
      "The R2 coefficient of determination for Model 1 is 0.385\n",
      "The intercept is 225.0\n",
      "Estimated regression coefficient for Storks is 28.79 change of babies born each year per pair of Storks.\n"
     ]
    }
   ],
   "source": [
    "#Fitting Model 1\n",
    "reg_Storks = LinearRegression().fit(X_Storks, y_Birth)\n",
    "print('The R2 coefficient of determination for Model 1 is %4.3f' % reg_Storks.score(X_Storks, y_Birth))\n",
    "print('The intercept is %4.1f' % reg_Storks.intercept_)\n",
    "beta_Storks = reg_Storks.coef_\n",
    "print('Estimated regression coefficient for Storks is %4.2f' % (beta_Storks*1000), \n",
    "      'change of babies born each year per pair of Storks.')\n"
   ]
  },
  {
   "cell_type": "code",
   "execution_count": 6,
   "id": "f481bd0b",
   "metadata": {
    "ExecuteTime": {
     "end_time": "2021-11-22T03:36:51.240717Z",
     "start_time": "2021-11-22T03:36:51.225710Z"
    },
    "scrolled": true
   },
   "outputs": [
    {
     "name": "stdout",
     "output_type": "stream",
     "text": [
      "The R2 coefficient of determination for Model 2 is 0.725\n",
      "The intercept is -8.4\n",
      "Estimated regression coefficient for Storks is 14.83 change of babies born each year per thousand of human population.\n"
     ]
    }
   ],
   "source": [
    "reg_Humans = LinearRegression().fit(X_Humans, y_Birth)\n",
    "print('The R2 coefficient of determination for Model 2 is %4.3f' % reg_Humans.score(X_Humans, y_Birth))\n",
    "print('The intercept is %4.1f' % reg_Humans.intercept_)\n",
    "beta_Humans = reg_Humans.coef_\n",
    "print('Estimated regression coefficient for Storks is %4.2f' % (beta_Humans), \n",
    "      'change of babies born each year per thousand of human population.')"
   ]
  },
  {
   "cell_type": "markdown",
   "id": "cf333cd6",
   "metadata": {},
   "source": [
    "The results confirms that Human population explains the variability of Birth Rate in each country better than the number of Stork pairs, as Model 2's R squared is almost double that of Model 1.\n",
    "\n",
    "It can also be noted that the coefficient for the predictor variable in both model are positive in value, meaning there are positive relationships between birth rate and both number of stork pairs and human population. \n",
    "\n",
    "The predictions by both regressions are visualized below:"
   ]
  },
  {
   "cell_type": "code",
   "execution_count": 7,
   "id": "14dbcc48",
   "metadata": {
    "ExecuteTime": {
     "end_time": "2021-11-22T03:36:51.491251Z",
     "start_time": "2021-11-22T03:36:51.242705Z"
    },
    "scrolled": false
   },
   "outputs": [
    {
     "data": {
      "image/png": "[encoded data removed]",
      "text/plain": [
       "<Figure size 1008x720 with 2 Axes>"
      ]
     },
     "metadata": {
      "needs_background": "light"
     },
     "output_type": "display_data"
    }
   ],
   "source": [
    "#get predicted value of Birth rate using Model 1 \n",
    "y_hat_Storks = reg_Storks.predict(X_Storks)\n",
    "#get predicted value of Birth rate using Model 2\n",
    "y_hat_Humans = reg_Humans.predict(X_Humans)\n",
    "\n",
    "#plot\n",
    "fig, (a1,a2) = plt.subplots(2, 1, figsize=(14,10))\n",
    "\n",
    "a1.scatter(X_Storks, y_Birth,  color='black')\n",
    "a1.plot(X_Storks, y_hat_Storks)\n",
    "a1.set_ylabel('BirthRate in thousands per year')\n",
    "a1.set_xlabel('Number of Stork pairs')\n",
    "\n",
    "a2.scatter(X_Humans, y_Birth,  color='black')\n",
    "a2.plot(X_Humans, y_hat_Humans)\n",
    "a2.set_ylabel('BirthRate in thousands per year')\n",
    "_ = a2.set_xlabel('Population in Millions')\n"
   ]
  },
  {
   "cell_type": "markdown",
   "id": "a6064066",
   "metadata": {},
   "source": [
    "### Section 2.B: Bootstrap"
   ]
  },
  {
   "cell_type": "markdown",
   "id": "663163ad",
   "metadata": {},
   "source": [
    "Bootstrap method will be conducted to estimate the confidence interval of the difference of Model 1's R-squared and Model 2's R-squared. As we are looking to confirm whether one of the models explains more variability than the other, and the original data shows that Model 2 has a higher R-squared than model 1, the confidence interval will be set from 0 quantile to $(1-\\alpha)$ quantile. Confidence interval of 90% ($\\alpha = 0.1$) and 95% ($\\alpha = 0.05$) will be specified.\n",
    "\n",
    "First the bootstrap function to calculate $R^2_{Model 1} - R^2_{Model 2}$ will be created:"
   ]
  },
  {
   "cell_type": "code",
   "execution_count": 8,
   "id": "d39be278",
   "metadata": {
    "ExecuteTime": {
     "end_time": "2021-11-22T03:36:51.507243Z",
     "start_time": "2021-11-22T03:36:51.494234Z"
    }
   },
   "outputs": [],
   "source": [
    "#Create a general bootstrap function using sklearn's resample\n",
    "def bootstrapC(data, cols, repeats, func):\n",
    "    result = pd.DataFrame(data = dict([(c, np.empty(repeats)) for c in cols]))\n",
    "    \n",
    "    for i in range(0, repeats):\n",
    "        result.iloc[i] = func(resample(data)) # default is to resample, same size\n",
    "    return result\n",
    "\n",
    "#Create a general function to get the difference between a statistic of 2 regression models \n",
    "def get_difference(stat, X1, X2, y1, y2=None):\n",
    "    \"\"\"\n",
    "    Returns the difference of the specified statistics between \n",
    "    a model using X1 and y1 vs a model using X2 and y2 (or y1 if y2 is not specified)\n",
    "    \n",
    "    \"\"\"\n",
    "    #conditions to accommodate models with a single predictor vs multiple predictors\n",
    "    if len(X1.shape)==1:\n",
    "        X1_transposed = np.array(X1).reshape(-1, 1)\n",
    "    else:\n",
    "        X1_transposed = np.column_stack(([X1[i] for i in list(X2)]))\n",
    "    if len(X2.shape)==1:\n",
    "        X2_transposed = np.array(X2).reshape(-1, 1)\n",
    "    else:\n",
    "        X2_transposed = np.column_stack(([X2[i] for i in list(X2)]))\n",
    "    #conditions to accommodate the optional use of different dependent variables between the 2 models\n",
    "    if y2==None:\n",
    "        diff = stat(X1_transposed, y1) - stat(X2_transposed, y1)\n",
    "    else:\n",
    "        diff = stat(X1_transposed, y1) - stat(X2_transposed, y2)\n",
    "    \n",
    "    return diff"
   ]
  },
  {
   "cell_type": "code",
   "execution_count": 9,
   "id": "65b068e8",
   "metadata": {
    "ExecuteTime": {
     "end_time": "2021-11-22T03:36:51.523253Z",
     "start_time": "2021-11-22T03:36:51.509237Z"
    },
    "scrolled": true
   },
   "outputs": [],
   "source": [
    "#Create a general function to calculate R-squared statistic of a regression model \n",
    "def Regression_get_Rsquared(X, y):\n",
    "    \"\"\"Returns R Squared of a Linear Regression Model between X and y\"\"\"\n",
    "    reg = LinearRegression().fit(X, y)\n",
    "    return reg.score(X, y)\n",
    "\n",
    "#Create a specific function to calculate difference in R-squared of model 1 and model 2\n",
    "def Rsquared_Storks_v_Humans(df):\n",
    "    \"\"\"Returns the difference of R Squared between \n",
    "    model using Storks vs a model using Humans as explanatory variable\"\"\"\n",
    "    diff = get_difference(Regression_get_Rsquared, df.Storks, df.Humans, df.BirthRate)\n",
    "    return diff"
   ]
  },
  {
   "cell_type": "markdown",
   "id": "b9f650fd",
   "metadata": {},
   "source": [
    "The output is 1000 bootstrap estimates of $R^2_{Model 1} - R^2_{Model 2}$. This will be plotted in a histogram for further investigation:"
   ]
  },
  {
   "cell_type": "code",
   "execution_count": 10,
   "id": "0e573470",
   "metadata": {
    "ExecuteTime": {
     "end_time": "2021-11-22T03:36:53.044777Z",
     "start_time": "2021-11-22T03:36:51.524259Z"
    },
    "scrolled": true
   },
   "outputs": [
    {
     "data": {
      "text/plain": [
       "array([[<AxesSubplot:title={'center':'R_squared_diff'}>]], dtype=object)"
      ]
     },
     "execution_count": 10,
     "metadata": {},
     "output_type": "execute_result"
    },
    {
     "data": {
      "image/png": "[encoded data removed]",
      "text/plain": [
       "<Figure size 432x288 with 1 Axes>"
      ]
     },
     "metadata": {
      "needs_background": "light"
     },
     "output_type": "display_data"
    }
   ],
   "source": [
    "#Run bootstrap function using the specific function just created, results saved in bstrap\n",
    "bstrap = bootstrapC(df, ['R_squared_diff'], 1000, Rsquared_Storks_v_Humans) \n",
    "\n",
    "bstrap.hist(bins=30)"
   ]
  },
  {
   "cell_type": "markdown",
   "id": "7590601f",
   "metadata": {},
   "source": [
    "Most bootstrapped estimates fall below 0. 95% and 90% confidence interval ranges (excluding tail only) is specified:"
   ]
  },
  {
   "cell_type": "code",
   "execution_count": 11,
   "id": "5bcd7c76",
   "metadata": {
    "ExecuteTime": {
     "end_time": "2021-11-22T03:36:53.059782Z",
     "start_time": "2021-11-22T03:36:53.045776Z"
    }
   },
   "outputs": [
    {
     "name": "stdout",
     "output_type": "stream",
     "text": [
      "95% range is -0.986 to 0.056\n",
      "90% range is -0.986 to -0.026\n"
     ]
    }
   ],
   "source": [
    "print('95%% range is %4.3f to %4.3f' % \n",
    "      (bstrap.R_squared_diff.quantile(0), bstrap.R_squared_diff.quantile(0.95)))\n",
    "print('90%% range is %4.3f to %4.3f' % \n",
    "      (bstrap.R_squared_diff.quantile(0), bstrap.R_squared_diff.quantile(0.90)))"
   ]
  },
  {
   "cell_type": "markdown",
   "id": "35c731b2",
   "metadata": {},
   "source": [
    "It is clear that all values within the 90% confidence interval are less than 0, however not all values within the 95% confidence interval are less than 0.\n",
    "\n",
    "Therefore it can be concluded with 90% confidence (but not 95%) that the R-squared of Model 2 is greater than that of model 1, meaning the human population have more explanatory power to Birth rate than the Stork population."
   ]
  },
  {
   "cell_type": "markdown",
   "id": "c56502ff",
   "metadata": {},
   "source": [
    "## Section 3: Analysis 2 - Models explaining the variability of number of Stork pairs\n",
    "\n",
    "### Section 3.A: Regression using current data\n",
    "\n",
    "This analysis looks at 2 regression models: Model 1 uses country's land areaas the predictor variable and number of Stork pairs as the dependent variable; model 2 uses human population density and land area suitable for storks as the predictor variable and number of Stork pairs as the dependent variable.\n",
    "\n",
    "Model 2's predictors require further data transformation:"
   ]
  },
  {
   "cell_type": "code",
   "execution_count": 12,
   "id": "a7fc5ec5",
   "metadata": {
    "ExecuteTime": {
     "end_time": "2021-11-22T03:36:53.091367Z",
     "start_time": "2021-11-22T03:36:53.061672Z"
    },
    "scrolled": false
   },
   "outputs": [
    {
     "data": {
      "text/html": [
       "<div>\n",
       "<style scoped>\n",
       "    .dataframe tbody tr th:only-of-type {\n",
       "        vertical-align: middle;\n",
       "    }\n",
       "\n",
       "    .dataframe tbody tr th {\n",
       "        vertical-align: top;\n",
       "    }\n",
       "\n",
       "    .dataframe thead th {\n",
       "        text-align: right;\n",
       "    }\n",
       "</style>\n",
       "<table border=\"1\" class=\"dataframe\">\n",
       "  <thead>\n",
       "    <tr style=\"text-align: right;\">\n",
       "      <th></th>\n",
       "      <th>Country</th>\n",
       "      <th>Area</th>\n",
       "      <th>Storks</th>\n",
       "      <th>Humans</th>\n",
       "      <th>BirthRate</th>\n",
       "      <th>SuitableAreaPercent</th>\n",
       "      <th>HumanDensity</th>\n",
       "      <th>StorkArea</th>\n",
       "    </tr>\n",
       "  </thead>\n",
       "  <tbody>\n",
       "    <tr>\n",
       "      <th>0</th>\n",
       "      <td>Albania</td>\n",
       "      <td>28750</td>\n",
       "      <td>100</td>\n",
       "      <td>3.2</td>\n",
       "      <td>83</td>\n",
       "      <td>55.68</td>\n",
       "      <td>111.304348</td>\n",
       "      <td>16008.000</td>\n",
       "    </tr>\n",
       "    <tr>\n",
       "      <th>1</th>\n",
       "      <td>Austria</td>\n",
       "      <td>83860</td>\n",
       "      <td>300</td>\n",
       "      <td>7.6</td>\n",
       "      <td>87</td>\n",
       "      <td>38.34</td>\n",
       "      <td>90.627236</td>\n",
       "      <td>32151.924</td>\n",
       "    </tr>\n",
       "    <tr>\n",
       "      <th>2</th>\n",
       "      <td>Belgium</td>\n",
       "      <td>30520</td>\n",
       "      <td>1</td>\n",
       "      <td>9.9</td>\n",
       "      <td>118</td>\n",
       "      <td>65.93</td>\n",
       "      <td>324.377457</td>\n",
       "      <td>20121.836</td>\n",
       "    </tr>\n",
       "    <tr>\n",
       "      <th>3</th>\n",
       "      <td>Bulgaria</td>\n",
       "      <td>111000</td>\n",
       "      <td>5000</td>\n",
       "      <td>9.0</td>\n",
       "      <td>117</td>\n",
       "      <td>57.99</td>\n",
       "      <td>81.081081</td>\n",
       "      <td>64368.900</td>\n",
       "    </tr>\n",
       "    <tr>\n",
       "      <th>4</th>\n",
       "      <td>Denmark</td>\n",
       "      <td>43100</td>\n",
       "      <td>9</td>\n",
       "      <td>5.1</td>\n",
       "      <td>59</td>\n",
       "      <td>81.46</td>\n",
       "      <td>118.329466</td>\n",
       "      <td>35109.260</td>\n",
       "    </tr>\n",
       "    <tr>\n",
       "      <th>5</th>\n",
       "      <td>France</td>\n",
       "      <td>544000</td>\n",
       "      <td>140</td>\n",
       "      <td>56.0</td>\n",
       "      <td>774</td>\n",
       "      <td>58.47</td>\n",
       "      <td>102.941176</td>\n",
       "      <td>318076.800</td>\n",
       "    </tr>\n",
       "    <tr>\n",
       "      <th>6</th>\n",
       "      <td>Germany</td>\n",
       "      <td>357000</td>\n",
       "      <td>3300</td>\n",
       "      <td>78.0</td>\n",
       "      <td>901</td>\n",
       "      <td>59.81</td>\n",
       "      <td>218.487395</td>\n",
       "      <td>213521.700</td>\n",
       "    </tr>\n",
       "    <tr>\n",
       "      <th>7</th>\n",
       "      <td>Greece</td>\n",
       "      <td>132000</td>\n",
       "      <td>2500</td>\n",
       "      <td>10.0</td>\n",
       "      <td>106</td>\n",
       "      <td>47.31</td>\n",
       "      <td>75.757576</td>\n",
       "      <td>62449.200</td>\n",
       "    </tr>\n",
       "    <tr>\n",
       "      <th>8</th>\n",
       "      <td>Holland</td>\n",
       "      <td>41900</td>\n",
       "      <td>4</td>\n",
       "      <td>15.0</td>\n",
       "      <td>188</td>\n",
       "      <td>70.96</td>\n",
       "      <td>357.995227</td>\n",
       "      <td>29732.240</td>\n",
       "    </tr>\n",
       "    <tr>\n",
       "      <th>9</th>\n",
       "      <td>Hungary</td>\n",
       "      <td>93000</td>\n",
       "      <td>5000</td>\n",
       "      <td>11.0</td>\n",
       "      <td>124</td>\n",
       "      <td>75.86</td>\n",
       "      <td>118.279570</td>\n",
       "      <td>70549.800</td>\n",
       "    </tr>\n",
       "    <tr>\n",
       "      <th>10</th>\n",
       "      <td>Italy</td>\n",
       "      <td>301280</td>\n",
       "      <td>5</td>\n",
       "      <td>57.0</td>\n",
       "      <td>551</td>\n",
       "      <td>60.30</td>\n",
       "      <td>189.192777</td>\n",
       "      <td>181671.840</td>\n",
       "    </tr>\n",
       "    <tr>\n",
       "      <th>11</th>\n",
       "      <td>Poland</td>\n",
       "      <td>312680</td>\n",
       "      <td>30000</td>\n",
       "      <td>38.0</td>\n",
       "      <td>610</td>\n",
       "      <td>64.09</td>\n",
       "      <td>121.529999</td>\n",
       "      <td>200396.612</td>\n",
       "    </tr>\n",
       "    <tr>\n",
       "      <th>12</th>\n",
       "      <td>Portugal</td>\n",
       "      <td>92390</td>\n",
       "      <td>1500</td>\n",
       "      <td>10.0</td>\n",
       "      <td>120</td>\n",
       "      <td>52.51</td>\n",
       "      <td>108.236822</td>\n",
       "      <td>48513.989</td>\n",
       "    </tr>\n",
       "    <tr>\n",
       "      <th>13</th>\n",
       "      <td>Romania</td>\n",
       "      <td>237500</td>\n",
       "      <td>5000</td>\n",
       "      <td>23.0</td>\n",
       "      <td>367</td>\n",
       "      <td>62.49</td>\n",
       "      <td>96.842105</td>\n",
       "      <td>148413.750</td>\n",
       "    </tr>\n",
       "    <tr>\n",
       "      <th>14</th>\n",
       "      <td>Spain</td>\n",
       "      <td>504750</td>\n",
       "      <td>8000</td>\n",
       "      <td>39.0</td>\n",
       "      <td>439</td>\n",
       "      <td>59.57</td>\n",
       "      <td>77.265973</td>\n",
       "      <td>300679.575</td>\n",
       "    </tr>\n",
       "    <tr>\n",
       "      <th>15</th>\n",
       "      <td>Switzerland</td>\n",
       "      <td>41290</td>\n",
       "      <td>150</td>\n",
       "      <td>6.7</td>\n",
       "      <td>82</td>\n",
       "      <td>43.19</td>\n",
       "      <td>162.266893</td>\n",
       "      <td>17833.151</td>\n",
       "    </tr>\n",
       "    <tr>\n",
       "      <th>16</th>\n",
       "      <td>Turkey</td>\n",
       "      <td>779450</td>\n",
       "      <td>25000</td>\n",
       "      <td>56.0</td>\n",
       "      <td>1576</td>\n",
       "      <td>65.97</td>\n",
       "      <td>71.845532</td>\n",
       "      <td>514203.165</td>\n",
       "    </tr>\n",
       "  </tbody>\n",
       "</table>\n",
       "</div>"
      ],
      "text/plain": [
       "        Country    Area  Storks  Humans  BirthRate  SuitableAreaPercent  \\\n",
       "0       Albania   28750     100     3.2         83                55.68   \n",
       "1       Austria   83860     300     7.6         87                38.34   \n",
       "2       Belgium   30520       1     9.9        118                65.93   \n",
       "3      Bulgaria  111000    5000     9.0        117                57.99   \n",
       "4       Denmark   43100       9     5.1         59                81.46   \n",
       "5        France  544000     140    56.0        774                58.47   \n",
       "6       Germany  357000    3300    78.0        901                59.81   \n",
       "7        Greece  132000    2500    10.0        106                47.31   \n",
       "8       Holland   41900       4    15.0        188                70.96   \n",
       "9       Hungary   93000    5000    11.0        124                75.86   \n",
       "10        Italy  301280       5    57.0        551                60.30   \n",
       "11       Poland  312680   30000    38.0        610                64.09   \n",
       "12     Portugal   92390    1500    10.0        120                52.51   \n",
       "13      Romania  237500    5000    23.0        367                62.49   \n",
       "14        Spain  504750    8000    39.0        439                59.57   \n",
       "15  Switzerland   41290     150     6.7         82                43.19   \n",
       "16       Turkey  779450   25000    56.0       1576                65.97   \n",
       "\n",
       "    HumanDensity   StorkArea  \n",
       "0     111.304348   16008.000  \n",
       "1      90.627236   32151.924  \n",
       "2     324.377457   20121.836  \n",
       "3      81.081081   64368.900  \n",
       "4     118.329466   35109.260  \n",
       "5     102.941176  318076.800  \n",
       "6     218.487395  213521.700  \n",
       "7      75.757576   62449.200  \n",
       "8     357.995227   29732.240  \n",
       "9     118.279570   70549.800  \n",
       "10    189.192777  181671.840  \n",
       "11    121.529999  200396.612  \n",
       "12    108.236822   48513.989  \n",
       "13     96.842105  148413.750  \n",
       "14     77.265973  300679.575  \n",
       "15    162.266893   17833.151  \n",
       "16     71.845532  514203.165  "
      ]
     },
     "execution_count": 12,
     "metadata": {},
     "output_type": "execute_result"
    }
   ],
   "source": [
    "#calculating Human density based on population size and land Area\n",
    "df['HumanDensity'] = df.apply(lambda x: x.Humans*1000000/x.Area, axis=1)\n",
    "#calculating Human density based on Suitable area percent and land Area\n",
    "df['StorkArea'] = df.apply(lambda x: x.Area*(x.SuitableAreaPercent/100), axis=1)\n",
    "#display newly created columns for eyeball checks\n",
    "df"
   ]
  },
  {
   "cell_type": "markdown",
   "id": "d811cad8",
   "metadata": {},
   "source": [
    "The 2 regression models will be fitted:"
   ]
  },
  {
   "cell_type": "code",
   "execution_count": 13,
   "id": "57cfbd0e",
   "metadata": {
    "ExecuteTime": {
     "end_time": "2021-11-22T03:36:53.107433Z",
     "start_time": "2021-11-22T03:36:53.093585Z"
    }
   },
   "outputs": [],
   "source": [
    "#target variable\n",
    "y_Storks = df.Storks\n",
    "#Model 1's predictor\n",
    "X_Area = np.array(df.Area).reshape(-1, 1)\n",
    "#Model 2's predictors\n",
    "X_Den_SArea = np.column_stack((df.HumanDensity, df.StorkArea))"
   ]
  },
  {
   "cell_type": "code",
   "execution_count": 14,
   "id": "9c6e9f91",
   "metadata": {
    "ExecuteTime": {
     "end_time": "2021-11-22T03:36:53.122844Z",
     "start_time": "2021-11-22T03:36:53.109427Z"
    },
    "scrolled": true
   },
   "outputs": [
    {
     "name": "stdout",
     "output_type": "stream",
     "text": [
      "The R2 coefficient of determination is 0.336\n",
      "The intercept is -60.7\n",
      "Estimated regression coefficient for Area is 0.02 change of Stork pair per square km.\n",
      "Root of the mean squared error: 6984.77\n"
     ]
    }
   ],
   "source": [
    "#Model 1\n",
    "reg_Area = LinearRegression().fit(X_Area, y_Storks)\n",
    "print('The R2 coefficient of determination is %4.3f' % reg_Area.score(X_Area, y_Storks))\n",
    "print('The intercept is %4.1f' % reg_Area.intercept_)\n",
    "beta_Area = reg_Area.coef_\n",
    "print('Estimated regression coefficient for Area is %4.2f' % (beta_Area), \n",
    "      'change of Stork pair per square km.')\n",
    "y_hat_Area = reg_Area.predict(X_Area)\n",
    "print('Root of the mean squared error: %.2f'% mean_squared_error(y_Storks, y_hat_Area, squared=False))"
   ]
  },
  {
   "cell_type": "code",
   "execution_count": 15,
   "id": "6e8e92dc",
   "metadata": {
    "ExecuteTime": {
     "end_time": "2021-11-22T03:36:53.137840Z",
     "start_time": "2021-11-22T03:36:53.123844Z"
    },
    "scrolled": false
   },
   "outputs": [
    {
     "name": "stdout",
     "output_type": "stream",
     "text": [
      "The R2 coefficient of determination is 0.393\n",
      "The intercept is 1881.4\n",
      "Estimated regression coefficient for Population density is -12.13 change of Stork pair for an increase of 1 person per square km.\n",
      "Estimated regression coefficient for StorkArea is 0.04 change of Stork pair per square km of suitable area.\n",
      "Root of the mean squared error: 6677.03\n"
     ]
    }
   ],
   "source": [
    "#Model 2 \n",
    "reg_Den_SArea = LinearRegression().fit(X_Den_SArea, y_Storks)\n",
    "print('The R2 coefficient of determination is %4.3f' % reg_Den_SArea.score(X_Den_SArea, y_Storks))\n",
    "print('The intercept is %4.1f' % reg_Den_SArea.intercept_)\n",
    "beta_Density, beta_StorkArea = reg_Den_SArea.coef_\n",
    "print('Estimated regression coefficient for Population density is %4.2f' % (beta_Density), \n",
    "      'change of Stork pair for an increase of 1 person per square km.')\n",
    "print('Estimated regression coefficient for StorkArea is %4.2f' % (beta_StorkArea), \n",
    "      'change of Stork pair per square km of suitable area.')\n",
    "y_hat_Den_SArea = reg_Den_SArea.predict(X_Den_SArea)\n",
    "print('Root of the mean squared error: %.2f'% mean_squared_error(y_Storks, y_hat_Den_SArea, squared=False))"
   ]
  },
  {
   "cell_type": "markdown",
   "id": "04201ceb",
   "metadata": {
    "ExecuteTime": {
     "end_time": "2021-11-21T01:40:57.361367Z",
     "start_time": "2021-11-21T01:40:57.345638Z"
    }
   },
   "source": [
    "The results confirms that population density and land area suitable for storks explains the variability of the numebr of stork pairs in each country better than the land area itself, as Model 2's R squared is higher than that of Model 1.\n",
    "\n",
    "It can also be noted that the root mean squared error of Model 1 is higher than that of Model 2, meaning Model 1 gets a higher error than Model 2 while predicting the same variable.\n",
    "\n",
    "The predictions by both regressions are visualized below:"
   ]
  },
  {
   "cell_type": "code",
   "execution_count": 16,
   "id": "bcd23853",
   "metadata": {
    "ExecuteTime": {
     "end_time": "2021-11-22T03:36:53.354545Z",
     "start_time": "2021-11-22T03:36:53.139840Z"
    },
    "scrolled": false
   },
   "outputs": [
    {
     "data": {
      "image/png": "[encoded data removed]",
      "text/plain": [
       "<Figure size 1008x720 with 2 Axes>"
      ]
     },
     "metadata": {
      "needs_background": "light"
     },
     "output_type": "display_data"
    }
   ],
   "source": [
    "#plot\n",
    "fig, (a1,a2) = plt.subplots(2, 1, figsize=(14,10))\n",
    "\n",
    "a1.scatter(y_hat_Area, y_Storks,  color='black')\n",
    "a1.plot(y_hat_Area, y_hat_Area)\n",
    "a1.set_ylabel('Predicted number of Stork pairs (Model 1)')\n",
    "a1.set_xlabel('Actual number of Stork pairs')\n",
    "\n",
    "a2.scatter(y_hat_Den_SArea, y_Storks,  color='black')\n",
    "a2.plot(y_hat_Den_SArea, y_hat_Den_SArea)\n",
    "a2.set_ylabel('Predicted number of Stork pairs (Model 2)')\n",
    "_ = a2.set_xlabel('Actual number of Stork pairs')\n"
   ]
  },
  {
   "cell_type": "markdown",
   "id": "e248a5c8",
   "metadata": {},
   "source": [
    "### Section 3.B: Bootstrap"
   ]
  },
  {
   "cell_type": "markdown",
   "id": "7b595428",
   "metadata": {},
   "source": [
    "Bootstrap method will be conducted to estimate the confidence interval of the difference of Model 1's root mean squared error (RMSE) and Model 2's RMSE. As we are looking to confirm whether one of the models predicts than the other, and the original data shows that Model 1 has a higher RSME than model 1, the confidence interval will be set from $\\alpha$ quantile to 100 quantile. Confidence interval of 95% ($\\alpha = 0.1$) and 99% ($\\alpha = 0.05$) will be specified.\n",
    "\n",
    "First the bootstrap function to calculate $RSME_{Model 1} - RSME_{Model 2}$ will be created:"
   ]
  },
  {
   "cell_type": "code",
   "execution_count": 17,
   "id": "d5fa119c",
   "metadata": {
    "ExecuteTime": {
     "end_time": "2021-11-22T03:36:53.370450Z",
     "start_time": "2021-11-22T03:36:53.355553Z"
    }
   },
   "outputs": [],
   "source": [
    "#Create a general function that calculates model's RMSE\n",
    "def Regression_get_RMSE(X, y):\n",
    "    \"\"\"Returns RMSE of a Linear Regression Model between X and y\"\"\"\n",
    "    reg = LinearRegression().fit(X, y)\n",
    "    y_hat = reg.predict(X)\n",
    "    return mean_squared_error(y, y_hat, squared=False)\n",
    "\n",
    "#Create a specific funtion that calculates the difference between 2 models' RSME \n",
    "#(reusing get_difference function)\n",
    "def RSME_Area_v_Den_SArea(df):\n",
    "    \"\"\"Returns the difference of RSME between \n",
    "    model using Area vs a model using Density and Stork suitable Area as explanatory variable\"\"\"\n",
    "    diff = get_difference(Regression_get_RMSE, df.Area, df.loc[:,['HumanDensity', 'StorkArea']], df.Storks)\n",
    "    return diff\n"
   ]
  },
  {
   "cell_type": "markdown",
   "id": "6727ecc9",
   "metadata": {},
   "source": [
    "The output is 1000 bootstrap estimates of $RMSE^2_{Model 1} - RMSE_{Model 2}$. This will be plotted in a histogram for further investigation:"
   ]
  },
  {
   "cell_type": "code",
   "execution_count": 18,
   "id": "0972f1e4",
   "metadata": {
    "ExecuteTime": {
     "end_time": "2021-11-22T03:36:55.315407Z",
     "start_time": "2021-11-22T03:36:53.372446Z"
    },
    "scrolled": true
   },
   "outputs": [
    {
     "data": {
      "text/plain": [
       "array([[<AxesSubplot:title={'center':'RSME_diff'}>]], dtype=object)"
      ]
     },
     "execution_count": 18,
     "metadata": {},
     "output_type": "execute_result"
    },
    {
     "data": {
      "image/png": "[encoded data removed]",
      "text/plain": [
       "<Figure size 432x288 with 1 Axes>"
      ]
     },
     "metadata": {
      "needs_background": "light"
     },
     "output_type": "display_data"
    }
   ],
   "source": [
    "#Calculate 1000 bootstraped estimates of the difference between 2 models' RSME \n",
    "bstrap_Stork = bootstrapC(df, ['RSME_diff'], 1000, RSME_Area_v_Den_SArea) \n",
    "bstrap_Stork.hist(bins = 30)"
   ]
  },
  {
   "cell_type": "markdown",
   "id": "fef427d9",
   "metadata": {},
   "source": [
    "Most bootstrapped estimates fall above 0. 99% and 95% confidence interval ranges (excluding left tail only) is specified:"
   ]
  },
  {
   "cell_type": "code",
   "execution_count": 19,
   "id": "c0cddc64",
   "metadata": {
    "ExecuteTime": {
     "end_time": "2021-11-22T03:36:55.331411Z",
     "start_time": "2021-11-22T03:36:55.317409Z"
    },
    "scrolled": true
   },
   "outputs": [
    {
     "name": "stdout",
     "output_type": "stream",
     "text": [
      "99% range is 38.003 to 2535.201\n",
      "95% range is 112.524 to 2535.201\n"
     ]
    }
   ],
   "source": [
    "print('99%% range is %4.3f to %4.3f' % \n",
    "      (bstrap_Stork.RSME_diff.quantile(0.01), bstrap_Stork.RSME_diff.quantile(1)))\n",
    "print('95%% range is %4.3f to %4.3f' % \n",
    "      (bstrap_Stork.RSME_diff.quantile(0.05), bstrap_Stork.RSME_diff.quantile(1)))"
   ]
  },
  {
   "cell_type": "markdown",
   "id": "8f353c98",
   "metadata": {},
   "source": [
    "It is clear that all values within the 99% confidence interval are over 0.\n",
    "\n",
    "Therefore it can be concluded with 99% confidence that the RSME of Model 1 is greater than that of model 2, meaning the model using population density and land area suitable for storks predicts the number of stork pairs in a country better than the model using land area predicting the same variable."
   ]
  }
 ],
 "metadata": {
  "kernelspec": {
   "display_name": "Python 3",
   "language": "python",
   "name": "python3"
  },
  "language_info": {
   "codemirror_mode": {
    "name": "ipython",
    "version": 3
   },
   "file_extension": ".py",
   "mimetype": "text/x-python",
   "name": "python",
   "nbconvert_exporter": "python",
   "pygments_lexer": "ipython3",
   "version": "3.8.8"
  },
  "toc": {
   "base_numbering": 1,
   "nav_menu": {},
   "number_sections": true,
   "sideBar": true,
   "skip_h1_title": false,
   "title_cell": "Table of Contents",
   "title_sidebar": "Contents",
   "toc_cell": false,
   "toc_position": {
    "height": "calc(100% - 180px)",
    "left": "10px",
    "top": "150px",
    "width": "279.273px"
   },
   "toc_section_display": true,
   "toc_window_display": true
  },
  "varInspector": {
   "cols": {
    "lenName": 16,
    "lenType": 16,
    "lenVar": 40
   },
   "kernels_config": {
    "python": {
     "delete_cmd_postfix": "",
     "delete_cmd_prefix": "del ",
     "library": "var_list.py",
     "varRefreshCmd": "print(var_dic_list())"
    },
    "r": {
     "delete_cmd_postfix": ") ",
     "delete_cmd_prefix": "rm(",
     "library": "var_list.r",
     "varRefreshCmd": "cat(var_dic_list()) "
    }
   },
   "types_to_exclude": [
    "module",
    "function",
    "builtin_function_or_method",
    "instance",
    "_Feature"
   ],
   "window_display": false
  }
 },
 "nbformat": 4,
 "nbformat_minor": 5
}
