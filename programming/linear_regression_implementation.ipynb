{
 "cells": [
  {
   "cell_type": "markdown",
   "metadata": {},
   "source": [
    "# Lab 3 Huy Quang Pham Submission\n",
    "In this lab, you will complete the full process of describing and then implementing an algorithm. You will do so on a topic relevant to data science: _(simple) linear regression_. Please note that this lab is assessed, i.e., you will need to submit the results of your work on QM+. To submit your work, first download/export your Jupyter notebook as PDF. Then upload the PDF file in the submission area on QM+."
   ]
  },
  {
   "cell_type": "markdown",
   "metadata": {},
   "source": []
  },
  {
   "cell_type": "markdown",
   "metadata": {},
   "source": [
    "## Task 1: Simple Linear Regression - English Description\n",
    "a. General description of calculation for the values of the estimates $\\alpha$ and $\\beta$:\n",
    "> We can find  the values of $\\sqrt{2}$ that corresponds to the minimal total of squared residuals by taking the derivative of $$\\sum_{i = 1}^n (y_i - \\alpha x_i - \\beta)^2$$ with $\\beta$ as differentiation variable, and setting the result to equal to 0, which will give us: $$-2\\sum_{i = 1}^n (y_i - \\alpha x_i - \\beta) = 0    \\Rightarrow    \\sum_{i = 1}^n\\beta = \\sum_{i = 1}^n (y_i -\\alpha x_i) \\\\\\Rightarrow \\beta = \\frac{\\sum_{i = 1}^n y_i}{n} - \\alpha \\frac{\\sum_{i = 1}^n  x_i}{n}    \\Rightarrow    \\beta = \\overline{y} -\\alpha\\overline{x} $$ ($\\overline{y}$ and $\\overline{x}$ are mean of y and mean of x respectively)\n",
    "\n",
    "> We can do the same with $\\alpha$ as the differentiation variable, which will give us:   $$-2\\sum_{i = 1}^n (y_i - \\alpha x_i - \\beta)x_i = 0    \\Rightarrow   \\sum_{i = 1}^n (y_i - \\alpha x_i - \\overline{y} -\\alpha\\overline{x})x_i = 0 \\\\\\Rightarrow \\sum_{i = 1}^n y_i x_i - \\alpha x_i^2 - \\overline{y} x_i +\\alpha\\overline{x} x_i = 0   \\Rightarrow   \\alpha \\sum_{i = 1}^n (x_i - \\overline{x}) x_i = \\sum_{i = 1}^n (y_i - \\overline{y}) x_i \\\\\\Rightarrow \\alpha = \\frac{\\sum_{i = 1}^n (y_i - \\overline{y}) x_i}{\\sum_{i = 1}^n (x_i - \\overline{x}) x_i} $$\n",
    "\n",
    "b. Algorithm description:\n",
    "> Assume that the input dataset will be stored in a list with the following format: [[x_1, y_1], [x_2, y_2], ..., [x_n, y_n]]. Steps to calculate the $\\alpha$ and $\\beta$ estimates are as follows: \n",
    "\n",
    "> 1. Store all the x values and y values into separate lists with the same order. \n",
    "\n",
    "> 2. Calculate average value of all x and y by taking total sum of each list and dividing by list length.\n",
    "\n",
    "> 3. Calculate the value of $\\alpha$ with the formula stated above by looping through every index of the list and then adding them up\n",
    "\n",
    "> 4. Calculate the value of $\\beta$ with the formula stated above using the mean values of y and x and $\\alpha$"
   ]
  },
  {
   "cell_type": "markdown",
   "metadata": {},
   "source": [
    "## Task 2: Simple Example\n",
    "Given a dataset [[x_1, y_1], [x_2, y_2], [x_3, y_3], [x_4, y_4]] as follows: [[1,6], [2,10], [3,5], [4,15]]\n",
    "> 1. Split the dataset into 2 separate lists [1, 2, 3, 4] and [6, 10, 5, 15]\n",
    "\n",
    "> 2. Calculate the mean value for all x and y values: $\\overline{x}$ = 2.5, $\\overline{y}$ = 9\n",
    "\n",
    "> 3. Calculate the value of $\\alpha$: $$ \\alpha = \\frac{\\sum_{i = 1}^n (y_i - \\overline{y}) x_i}{\\sum_{i = 1}^n (x_i - \\overline{x}) x_i} \\\\\\Rightarrow \\alpha = \\frac{(6-9)1+(10-9)2+(5-9)3+(15-9)4}{(1-2.5)1 +(2-2.5)2+(3-2.5)3+(4-2.5)4} \\\\\\Rightarrow \\alpha = \\frac{11}{5} = 2.2$$\n",
    "\n",
    "> 4. Calculate the value of $\\beta$: $$\\beta = \\overline{y} -\\alpha\\overline{x} \\\\\\Rightarrow \\beta = 9 - 2.2*2.5 \\\\\\Rightarrow \\beta = 3.5$$\n"
   ]
  },
  {
   "cell_type": "markdown",
   "metadata": {},
   "source": [
    "## Task 3: Algorithm Implementation\n",
    "Setting up input values and define calculation function:"
   ]
  },
  {
   "cell_type": "code",
   "execution_count": 1,
   "metadata": {},
   "outputs": [],
   "source": [
    "dataset = []\n",
    "# Dataset will be the variable used to input dataset of x and y in the form of [[x_1, y_1], [x_2, y_2], [x_3, y_3]]\n",
    "def lin_reg(ds):\n",
    "    # Step 1: get the first element of every sub-list to create a list of x values, \n",
    "    # and the second element to create a list of y values\n",
    "    ds_x = [sds[0] for sds in ds]\n",
    "    ds_y = [sds[1] for sds in ds]\n",
    "    \n",
    "    # Step 2: get mean values of x and y\n",
    "    mean_x = sum(ds_x)/len(ds_x)\n",
    "    mean_y = sum(ds_y)/len(ds_y)\n",
    "    #print for debugging\n",
    "    print(\"value of mean x values: \"+str(mean_x))\n",
    "    print(\"value of mean y values: \"+str(mean_y))\n",
    "    \n",
    "    # Step 3: Calculate the value of the numerator and denominator of the alpha formula \n",
    "    # by using for loops iterate each index of 2 lists:\n",
    "    alpha_numerator = 0\n",
    "    alpha_denominator = 0\n",
    "    for i in range(len(ds)):\n",
    "        # (y_i - mean_y)*x_i\n",
    "        alpha_numerator = alpha_numerator + (ds_y[i]-mean_y)*ds_x[i]\n",
    "        # (x_i - mean_x)*x_i\n",
    "        alpha_denominator = alpha_denominator + (ds_x[i]-mean_x)*ds_x[i]\n",
    "    print(\"value of alpha = \"+str(alpha_numerator)+\"/\"+str(alpha_denominator))\n",
    "    \n",
    "    #divide numerator over denominator\n",
    "    alpha = alpha_numerator / alpha_denominator\n",
    "    \n",
    "    #calculate beta based on mean_y, mean_x and alpha\n",
    "    print(\"value of beta = \"+str(mean_y) + \" - \" +str(alpha)+\"*\"+str(mean_x))\n",
    "    beta = mean_y - alpha*mean_x\n",
    "    \n",
    "    #return a dict with alpha and beta\n",
    "    estimators = {\"alpha\": alpha, \"beta\": beta}\n",
    "    print(estimators)"
   ]
  },
  {
   "cell_type": "markdown",
   "metadata": {},
   "source": [
    "## Task 4: Test algorithm\n",
    "Calculate alpha and beta for the dataset on Task 2"
   ]
  },
  {
   "cell_type": "code",
   "execution_count": 2,
   "metadata": {},
   "outputs": [
    {
     "name": "stdout",
     "output_type": "stream",
     "text": [
      "value of mean x values: 2.5\n",
      "value of mean y values: 9.0\n",
      "value of alpha = 11.0/5.0\n",
      "value of beta = 9.0 - 2.2*2.5\n",
      "{'alpha': 2.2, 'beta': 3.5}\n"
     ]
    }
   ],
   "source": [
    "dataset = [[1,6], [2,10], [3,5], [4,15]]\n",
    "lin_reg(dataset)"
   ]
  },
  {
   "cell_type": "markdown",
   "metadata": {},
   "source": [
    "which gives the same results\n",
    "\n",
    "Comparing with output of scikit-learn package:"
   ]
  },
  {
   "cell_type": "code",
   "execution_count": 4,
   "metadata": {},
   "outputs": [
    {
     "name": "stdout",
     "output_type": "stream",
     "text": [
      "alpha sklearn: [2.2]\n",
      "beta sklearn: 3.500000000000001\n"
     ]
    }
   ],
   "source": [
    "import numpy as np\n",
    "from sklearn.linear_model import LinearRegression\n",
    "\n",
    "#create a test model with sklearn and fit the same data\n",
    "x = np.array([1,2,3,4]).reshape((-1, 1))\n",
    "y = np.array([6,10,5,15])\n",
    "test_model = LinearRegression().fit(x, y)\n",
    "\n",
    "#get estimator values\n",
    "print('alpha sklearn:', test_model.coef_)\n",
    "print('beta sklearn:', test_model.intercept_)\n",
    "\n"
   ]
  },
  {
   "cell_type": "markdown",
   "metadata": {},
   "source": [
    "Comparing to sklearn with a different dataset, which gives the same results:"
   ]
  },
  {
   "cell_type": "code",
   "execution_count": 6,
   "metadata": {},
   "outputs": [
    {
     "name": "stdout",
     "output_type": "stream",
     "text": [
      "value of mean x values: 18.666666666666668\n",
      "value of mean y values: 188.33333333333334\n",
      "value of alpha = 15874.666666666666/3245.333333333333\n",
      "value of beta = 188.33333333333334 - 4.891536565324569*18.666666666666668\n",
      "{'alpha': 4.891536565324569, 'beta': 97.02465078060806}\n",
      "alpha sklearn: [4.89153657]\n",
      "beta sklearn: 97.02465078060804\n"
     ]
    }
   ],
   "source": [
    "dataset2 = [[2,108], [13, 199], [4,50], [5,123], [19,230], [69, 420]]\n",
    "#test using in-house function\n",
    "lin_reg(dataset2)\n",
    "\n",
    "#test using sklearn\n",
    "dataset2_x = [sds[0] for sds in dataset2]\n",
    "dataset2_y = [sds[1] for sds in dataset2]\n",
    "x = np.array(dataset2_x).reshape((-1, 1))\n",
    "y = np.array(dataset2_y)\n",
    "test_model2 = LinearRegression().fit(x, y)\n",
    "#get estimator values\n",
    "print('alpha sklearn:', test_model2.coef_)\n",
    "print('beta sklearn:', test_model2.intercept_)"
   ]
  }
 ],
 "metadata": {
  "kernelspec": {
   "display_name": "Python 3",
   "language": "python",
   "name": "python3"
  },
  "language_info": {
   "codemirror_mode": {
    "name": "ipython",
    "version": 3
   },
   "file_extension": ".py",
   "mimetype": "text/x-python",
   "name": "python",
   "nbconvert_exporter": "python",
   "pygments_lexer": "ipython3",
   "version": "3.8.8"
  },
  "toc": {
   "base_numbering": 1,
   "nav_menu": {},
   "number_sections": true,
   "sideBar": true,
   "skip_h1_title": false,
   "title_cell": "Table of Contents",
   "title_sidebar": "Contents",
   "toc_cell": false,
   "toc_position": {},
   "toc_section_display": true,
   "toc_window_display": false
  },
  "varInspector": {
   "cols": {
    "lenName": 16,
    "lenType": 16,
    "lenVar": 40
   },
   "kernels_config": {
    "python": {
     "delete_cmd_postfix": "",
     "delete_cmd_prefix": "del ",
     "library": "var_list.py",
     "varRefreshCmd": "print(var_dic_list())"
    },
    "r": {
     "delete_cmd_postfix": ") ",
     "delete_cmd_prefix": "rm(",
     "library": "var_list.r",
     "varRefreshCmd": "cat(var_dic_list()) "
    }
   },
   "types_to_exclude": [
    "module",
    "function",
    "builtin_function_or_method",
    "instance",
    "_Feature"
   ],
   "window_display": false
  }
 },
 "nbformat": 4,
 "nbformat_minor": 4
}
